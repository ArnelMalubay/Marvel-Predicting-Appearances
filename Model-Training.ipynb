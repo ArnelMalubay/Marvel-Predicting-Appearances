{
 "cells": [
  {
   "cell_type": "markdown",
   "metadata": {},
   "source": [
    "# Predicting the Number of Appearances of Marvel Characters using Catboost"
   ]
  },
  {
   "cell_type": "code",
   "execution_count": 1,
   "metadata": {},
   "outputs": [],
   "source": [
    "import pandas as pd\n",
    "from sklearn.model_selection import train_test_split\n",
    "from catboost import CatBoostRegressor, EShapCalcType, EFeaturesSelectionAlgorithm"
   ]
  },
  {
   "cell_type": "code",
   "execution_count": 16,
   "metadata": {},
   "outputs": [
    {
     "data": {
      "text/html": [
       "<div>\n",
       "<style scoped>\n",
       "    .dataframe tbody tr th:only-of-type {\n",
       "        vertical-align: middle;\n",
       "    }\n",
       "\n",
       "    .dataframe tbody tr th {\n",
       "        vertical-align: top;\n",
       "    }\n",
       "\n",
       "    .dataframe thead th {\n",
       "        text-align: right;\n",
       "    }\n",
       "</style>\n",
       "<table border=\"1\" class=\"dataframe\">\n",
       "  <thead>\n",
       "    <tr style=\"text-align: right;\">\n",
       "      <th></th>\n",
       "      <th>Name</th>\n",
       "      <th>Gender</th>\n",
       "      <th>Marital_Status</th>\n",
       "      <th>Height</th>\n",
       "      <th>Weight</th>\n",
       "      <th>Eye_Color</th>\n",
       "      <th>Hair_Color</th>\n",
       "      <th>Living_Status</th>\n",
       "      <th>Reality</th>\n",
       "      <th>Identity</th>\n",
       "      <th>Appearances</th>\n",
       "      <th>Year_Introduced</th>\n",
       "      <th>Average_Annual_Appearances</th>\n",
       "    </tr>\n",
       "  </thead>\n",
       "  <tbody>\n",
       "    <tr>\n",
       "      <th>0</th>\n",
       "      <td>6-Ball (Earth-616)</td>\n",
       "      <td>Male</td>\n",
       "      <td>Single</td>\n",
       "      <td>NaN</td>\n",
       "      <td>NaN</td>\n",
       "      <td>NaN</td>\n",
       "      <td>NaN</td>\n",
       "      <td>Alive</td>\n",
       "      <td>Earth-616</td>\n",
       "      <td>Secret</td>\n",
       "      <td>1.0</td>\n",
       "      <td>1991</td>\n",
       "      <td>0.032258</td>\n",
       "    </tr>\n",
       "    <tr>\n",
       "      <th>1</th>\n",
       "      <td>6R (Earth-616)</td>\n",
       "      <td>Agender</td>\n",
       "      <td>NaN</td>\n",
       "      <td>NaN</td>\n",
       "      <td>NaN</td>\n",
       "      <td>NaN</td>\n",
       "      <td>NaN</td>\n",
       "      <td>Deceased</td>\n",
       "      <td>Earth-616</td>\n",
       "      <td>NaN</td>\n",
       "      <td>1.0</td>\n",
       "      <td>1969</td>\n",
       "      <td>0.018868</td>\n",
       "    </tr>\n",
       "    <tr>\n",
       "      <th>2</th>\n",
       "      <td>762 (Legion Personality) (Earth-616)</td>\n",
       "      <td>Male</td>\n",
       "      <td>Single</td>\n",
       "      <td>NaN</td>\n",
       "      <td>NaN</td>\n",
       "      <td>NaN</td>\n",
       "      <td>Black</td>\n",
       "      <td>Alive</td>\n",
       "      <td>Earth-616</td>\n",
       "      <td>Secret</td>\n",
       "      <td>1.0</td>\n",
       "      <td>2010</td>\n",
       "      <td>0.083333</td>\n",
       "    </tr>\n",
       "    <tr>\n",
       "      <th>3</th>\n",
       "      <td>627 (Skullbot) (Earth-12041)</td>\n",
       "      <td>Agender</td>\n",
       "      <td>NaN</td>\n",
       "      <td>NaN</td>\n",
       "      <td>NaN</td>\n",
       "      <td>Blue</td>\n",
       "      <td>No hair at all</td>\n",
       "      <td>Deceased</td>\n",
       "      <td>Earth-12041</td>\n",
       "      <td>Public</td>\n",
       "      <td>1.0</td>\n",
       "      <td>2017</td>\n",
       "      <td>0.200000</td>\n",
       "    </tr>\n",
       "    <tr>\n",
       "      <th>4</th>\n",
       "      <td>749 (Legion Personality) (Earth-616)</td>\n",
       "      <td>Male</td>\n",
       "      <td>Single</td>\n",
       "      <td>NaN</td>\n",
       "      <td>NaN</td>\n",
       "      <td>NaN</td>\n",
       "      <td>Black</td>\n",
       "      <td>Alive</td>\n",
       "      <td>Earth-616</td>\n",
       "      <td>Secret</td>\n",
       "      <td>1.0</td>\n",
       "      <td>2011</td>\n",
       "      <td>0.090909</td>\n",
       "    </tr>\n",
       "  </tbody>\n",
       "</table>\n",
       "</div>"
      ],
      "text/plain": [
       "                                   Name   Gender Marital_Status  Height  \\\n",
       "0                    6-Ball (Earth-616)     Male         Single     NaN   \n",
       "1                        6R (Earth-616)  Agender            NaN     NaN   \n",
       "2  762 (Legion Personality) (Earth-616)     Male         Single     NaN   \n",
       "3          627 (Skullbot) (Earth-12041)  Agender            NaN     NaN   \n",
       "4  749 (Legion Personality) (Earth-616)     Male         Single     NaN   \n",
       "\n",
       "   Weight Eye_Color      Hair_Color Living_Status      Reality Identity  \\\n",
       "0     NaN       NaN             NaN         Alive    Earth-616   Secret   \n",
       "1     NaN       NaN             NaN      Deceased    Earth-616      NaN   \n",
       "2     NaN       NaN           Black         Alive    Earth-616   Secret   \n",
       "3     NaN      Blue  No hair at all      Deceased  Earth-12041   Public   \n",
       "4     NaN       NaN           Black         Alive    Earth-616   Secret   \n",
       "\n",
       "   Appearances  Year_Introduced  Average_Annual_Appearances  \n",
       "0          1.0             1991                    0.032258  \n",
       "1          1.0             1969                    0.018868  \n",
       "2          1.0             2010                    0.083333  \n",
       "3          1.0             2017                    0.200000  \n",
       "4          1.0             2011                    0.090909  "
      ]
     },
     "execution_count": 16,
     "metadata": {},
     "output_type": "execute_result"
    }
   ],
   "source": [
    "df = pd.read_csv('characters_cleaned.csv', index_col = [0])\n",
    "df.head(5)"
   ]
  },
  {
   "cell_type": "code",
   "execution_count": 17,
   "metadata": {},
   "outputs": [
    {
     "name": "stdout",
     "output_type": "stream",
     "text": [
      "(64064, 10) (64064,)\n"
     ]
    }
   ],
   "source": [
    "cat_features = ['Gender', 'Marital_Status', 'Eye_Color', 'Hair_Color', 'Living_Status', 'Reality', 'Identity']\n",
    "all_features = ['Height', 'Weight', 'Year_Introduced']\n",
    "all_features.extend(cat_features)\n",
    "X = df[all_features].copy()\n",
    "y = df['Average_Annual_Appearances'].copy()\n",
    "print(X.shape, y.shape)"
   ]
  },
  {
   "cell_type": "code",
   "execution_count": 18,
   "metadata": {},
   "outputs": [
    {
     "data": {
      "text/plain": [
       "Height             float64\n",
       "Weight             float64\n",
       "Year_Introduced    float64\n",
       "Gender              object\n",
       "Marital_Status      object\n",
       "Eye_Color           object\n",
       "Hair_Color          object\n",
       "Living_Status       object\n",
       "Reality             object\n",
       "Identity            object\n",
       "dtype: object"
      ]
     },
     "execution_count": 18,
     "metadata": {},
     "output_type": "execute_result"
    }
   ],
   "source": [
    "X[cat_features] = X[cat_features].astype('str')\n",
    "X['Year_Introduced'] = X['Year_Introduced'].astype('float64')\n",
    "X.dtypes"
   ]
  },
  {
   "cell_type": "code",
   "execution_count": 19,
   "metadata": {},
   "outputs": [
    {
     "name": "stdout",
     "output_type": "stream",
     "text": [
      "(41000, 10) (10251, 10) (12813, 10) (41000,) (10251,) (12813,)\n"
     ]
    }
   ],
   "source": [
    "train_X, test_X, train_y, test_y = train_test_split(X, y, test_size = 0.20)\n",
    "train_X, val_X, train_y, val_y = train_test_split(train_X, train_y, test_size = 0.20)\n",
    "print(train_X.shape, val_X.shape, test_X.shape, train_y.shape, val_y.shape, test_y.shape)"
   ]
  },
  {
   "cell_type": "code",
   "execution_count": 25,
   "metadata": {},
   "outputs": [
    {
     "name": "stderr",
     "output_type": "stream",
     "text": [
      "Custom logger is already specified. Specify more than one logger at same time is not thread safe."
     ]
    },
    {
     "name": "stdout",
     "output_type": "stream",
     "text": [
      "Learning rate set to 0.091223\n",
      "0:\tlearn: 3.5903568\ttest: 2.9701603\tbest: 2.9701603 (0)\ttotal: 103ms\tremaining: 1m 43s\n",
      "1:\tlearn: 3.5275119\ttest: 2.9578484\tbest: 2.9578484 (1)\ttotal: 187ms\tremaining: 1m 33s\n",
      "2:\tlearn: 3.4576049\ttest: 2.9428442\tbest: 2.9428442 (2)\ttotal: 263ms\tremaining: 1m 27s\n",
      "3:\tlearn: 3.3858643\ttest: 2.9326668\tbest: 2.9326668 (3)\ttotal: 328ms\tremaining: 1m 21s\n",
      "4:\tlearn: 3.3213155\ttest: 2.9190619\tbest: 2.9190619 (4)\ttotal: 424ms\tremaining: 1m 24s\n",
      "5:\tlearn: 3.2569911\ttest: 2.9219033\tbest: 2.9190619 (4)\ttotal: 495ms\tremaining: 1m 21s\n",
      "6:\tlearn: 3.2098241\ttest: 2.9217168\tbest: 2.9190619 (4)\ttotal: 558ms\tremaining: 1m 19s\n",
      "7:\tlearn: 3.1576158\ttest: 2.9262415\tbest: 2.9190619 (4)\ttotal: 657ms\tremaining: 1m 21s\n",
      "8:\tlearn: 3.1243336\ttest: 2.9254832\tbest: 2.9190619 (4)\ttotal: 756ms\tremaining: 1m 23s\n",
      "9:\tlearn: 3.0793773\ttest: 2.9227936\tbest: 2.9190619 (4)\ttotal: 906ms\tremaining: 1m 29s\n",
      "10:\tlearn: 3.0333211\ttest: 2.9257192\tbest: 2.9190619 (4)\ttotal: 1.08s\tremaining: 1m 36s\n",
      "11:\tlearn: 2.9670456\ttest: 2.9245468\tbest: 2.9190619 (4)\ttotal: 1.26s\tremaining: 1m 43s\n",
      "12:\tlearn: 2.9629011\ttest: 2.9227114\tbest: 2.9190619 (4)\ttotal: 1.36s\tremaining: 1m 43s\n",
      "13:\tlearn: 2.9120696\ttest: 2.9259105\tbest: 2.9190619 (4)\ttotal: 1.43s\tremaining: 1m 40s\n",
      "14:\tlearn: 2.8544720\ttest: 2.9368485\tbest: 2.9190619 (4)\ttotal: 1.56s\tremaining: 1m 42s\n",
      "15:\tlearn: 2.8005245\ttest: 2.9349672\tbest: 2.9190619 (4)\ttotal: 1.65s\tremaining: 1m 41s\n",
      "16:\tlearn: 2.7930372\ttest: 2.9340813\tbest: 2.9190619 (4)\ttotal: 1.68s\tremaining: 1m 37s\n",
      "17:\tlearn: 2.7585801\ttest: 2.9397284\tbest: 2.9190619 (4)\ttotal: 1.75s\tremaining: 1m 35s\n",
      "18:\tlearn: 2.7177720\ttest: 2.9470067\tbest: 2.9190619 (4)\ttotal: 1.82s\tremaining: 1m 33s\n",
      "19:\tlearn: 2.6825544\ttest: 2.9511401\tbest: 2.9190619 (4)\ttotal: 1.89s\tremaining: 1m 32s\n",
      "20:\tlearn: 2.6423298\ttest: 2.9519896\tbest: 2.9190619 (4)\ttotal: 1.97s\tremaining: 1m 31s\n",
      "21:\tlearn: 2.5976445\ttest: 2.9697620\tbest: 2.9190619 (4)\ttotal: 2.06s\tremaining: 1m 31s\n",
      "22:\tlearn: 2.5762710\ttest: 2.9699602\tbest: 2.9190619 (4)\ttotal: 2.15s\tremaining: 1m 31s\n",
      "23:\tlearn: 2.5495049\ttest: 2.9808924\tbest: 2.9190619 (4)\ttotal: 2.23s\tremaining: 1m 30s\n",
      "24:\tlearn: 2.5297321\ttest: 2.9799126\tbest: 2.9190619 (4)\ttotal: 2.32s\tremaining: 1m 30s\n",
      "25:\tlearn: 2.5053948\ttest: 2.9898691\tbest: 2.9190619 (4)\ttotal: 2.43s\tremaining: 1m 30s\n",
      "26:\tlearn: 2.5013297\ttest: 2.9898449\tbest: 2.9190619 (4)\ttotal: 2.48s\tremaining: 1m 29s\n",
      "27:\tlearn: 2.5012217\ttest: 2.9898277\tbest: 2.9190619 (4)\ttotal: 2.54s\tremaining: 1m 28s\n",
      "28:\tlearn: 2.4792297\ttest: 2.9983035\tbest: 2.9190619 (4)\ttotal: 2.63s\tremaining: 1m 27s\n",
      "29:\tlearn: 2.4447795\ttest: 2.9980446\tbest: 2.9190619 (4)\ttotal: 2.7s\tremaining: 1m 27s\n",
      "30:\tlearn: 2.4410371\ttest: 2.9980629\tbest: 2.9190619 (4)\ttotal: 2.75s\tremaining: 1m 26s\n",
      "31:\tlearn: 2.4204164\ttest: 2.9972728\tbest: 2.9190619 (4)\ttotal: 2.83s\tremaining: 1m 25s\n",
      "32:\tlearn: 2.4177235\ttest: 2.9973474\tbest: 2.9190619 (4)\ttotal: 2.92s\tremaining: 1m 25s\n",
      "33:\tlearn: 2.3947203\ttest: 3.0072290\tbest: 2.9190619 (4)\ttotal: 3s\tremaining: 1m 25s\n",
      "34:\tlearn: 2.3744930\ttest: 3.0072513\tbest: 2.9190619 (4)\ttotal: 3.06s\tremaining: 1m 24s\n",
      "Stopped by overfitting detector  (30 iterations wait)\n",
      "\n",
      "bestTest = 2.919061896\n",
      "bestIteration = 4\n",
      "\n",
      "Shrink model to first 5 iterations.\n"
     ]
    },
    {
     "data": {
      "text/plain": [
       "<catboost.core.CatBoostRegressor at 0x20d033d0>"
      ]
     },
     "execution_count": 25,
     "metadata": {},
     "output_type": "execute_result"
    }
   ],
   "source": [
    "cat_reg = CatBoostRegressor()\n",
    "cat_reg.fit(X = train_X, y = train_y, cat_features = cat_features, use_best_model = True, eval_set = (val_X, val_y), \n",
    "            early_stopping_rounds = 30)"
   ]
  },
  {
   "cell_type": "code",
   "execution_count": 26,
   "metadata": {},
   "outputs": [
    {
     "data": {
      "text/plain": [
       "0.13007648405314554"
      ]
     },
     "execution_count": 26,
     "metadata": {},
     "output_type": "execute_result"
    }
   ],
   "source": [
    "cat_reg.score(test_X, test_y)"
   ]
  },
  {
   "cell_type": "code",
   "execution_count": 33,
   "metadata": {},
   "outputs": [
    {
     "data": {
      "text/plain": [
       "{'learn': {'RMSE': 2.3744930055062548},\n",
       " 'validation': {'RMSE': 2.9190618960509824}}"
      ]
     },
     "execution_count": 33,
     "metadata": {},
     "output_type": "execute_result"
    }
   ],
   "source": [
    "cat_reg.best_score_"
   ]
  },
  {
   "cell_type": "code",
   "execution_count": 28,
   "metadata": {},
   "outputs": [],
   "source": [
    "cat_reg_rfe = CatBoostRegressor(cat_features = cat_features)\n",
    "rfe_results = cat_reg_rfe.select_features(X = train_X, y = train_y, eval_set = (val_X, val_y), features_for_select = [i for i in range(10)], \n",
    "                        num_features_to_select = 6, steps = 3, algorithm = EFeaturesSelectionAlgorithm.RecursiveByShapValues,\n",
    "                        shap_calc_type = EShapCalcType.Regular, logging_level='Silent')"
   ]
  },
  {
   "cell_type": "code",
   "execution_count": 30,
   "metadata": {},
   "outputs": [
    {
     "data": {
      "text/plain": [
       "['Height',\n",
       " 'Weight',\n",
       " 'Year_Introduced',\n",
       " 'Eye_Color',\n",
       " 'Living_Status',\n",
       " 'Reality']"
      ]
     },
     "execution_count": 30,
     "metadata": {},
     "output_type": "execute_result"
    }
   ],
   "source": [
    "rfe_results['selected_features_names']"
   ]
  },
  {
   "cell_type": "code",
   "execution_count": 31,
   "metadata": {},
   "outputs": [
    {
     "data": {
      "text/plain": [
       "['Marital_Status', 'Identity', 'Hair_Color', 'Gender']"
      ]
     },
     "execution_count": 31,
     "metadata": {},
     "output_type": "execute_result"
    }
   ],
   "source": [
    "rfe_results['eliminated_features_names']"
   ]
  },
  {
   "cell_type": "code",
   "execution_count": 32,
   "metadata": {},
   "outputs": [
    {
     "data": {
      "text/plain": [
       "0.1540277405099837"
      ]
     },
     "execution_count": 32,
     "metadata": {},
     "output_type": "execute_result"
    }
   ],
   "source": [
    "cat_reg_rfe.score(test_X, test_y)"
   ]
  },
  {
   "cell_type": "code",
   "execution_count": 34,
   "metadata": {},
   "outputs": [
    {
     "data": {
      "text/plain": [
       "{'learn': {'RMSE': 1.0229286841074865},\n",
       " 'validation': {'RMSE': 2.6919874500152408}}"
      ]
     },
     "execution_count": 34,
     "metadata": {},
     "output_type": "execute_result"
    }
   ],
   "source": [
    "cat_reg_rfe.best_score_"
   ]
  },
  {
   "cell_type": "code",
   "execution_count": null,
   "metadata": {},
   "outputs": [],
   "source": [
    "# To do: train cat_reg_rfe with hyperparameter tuning in mind then compare results"
   ]
  }
 ],
 "metadata": {
  "interpreter": {
   "hash": "4f3e19df1e0a2f309f08dc4afc5ce24bf6fcd5c6ae41370a59f46d1c3c5f04de"
  },
  "kernelspec": {
   "display_name": "Python 3.8.10 64-bit ('marvel-env': venv)",
   "language": "python",
   "name": "python3"
  },
  "language_info": {
   "codemirror_mode": {
    "name": "ipython",
    "version": 3
   },
   "file_extension": ".py",
   "mimetype": "text/x-python",
   "name": "python",
   "nbconvert_exporter": "python",
   "pygments_lexer": "ipython3",
   "version": "3.8.10"
  },
  "orig_nbformat": 4
 },
 "nbformat": 4,
 "nbformat_minor": 2
}
