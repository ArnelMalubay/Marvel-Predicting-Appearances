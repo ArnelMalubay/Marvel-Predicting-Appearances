{
 "cells": [
  {
   "cell_type": "markdown",
   "metadata": {},
   "source": [
    "# Predicting the Number of Appearances of Marvel Characters using Catboost"
   ]
  },
  {
   "cell_type": "code",
   "execution_count": 1,
   "metadata": {},
   "outputs": [],
   "source": [
    "import pandas as pd\n",
    "from sklearn.model_selection import train_test_split\n",
    "from catboost import CatBoostRegressor, EShapCalcType, EFeaturesSelectionAlgorithm"
   ]
  },
  {
   "cell_type": "code",
   "execution_count": 2,
   "metadata": {},
   "outputs": [
    {
     "data": {
      "text/html": [
       "<div>\n",
       "<style scoped>\n",
       "    .dataframe tbody tr th:only-of-type {\n",
       "        vertical-align: middle;\n",
       "    }\n",
       "\n",
       "    .dataframe tbody tr th {\n",
       "        vertical-align: top;\n",
       "    }\n",
       "\n",
       "    .dataframe thead th {\n",
       "        text-align: right;\n",
       "    }\n",
       "</style>\n",
       "<table border=\"1\" class=\"dataframe\">\n",
       "  <thead>\n",
       "    <tr style=\"text-align: right;\">\n",
       "      <th></th>\n",
       "      <th>Name</th>\n",
       "      <th>Gender</th>\n",
       "      <th>Marital_Status</th>\n",
       "      <th>Height</th>\n",
       "      <th>Weight</th>\n",
       "      <th>Eye_Color</th>\n",
       "      <th>Hair_Color</th>\n",
       "      <th>Living_Status</th>\n",
       "      <th>Reality</th>\n",
       "      <th>Identity</th>\n",
       "      <th>Year_Introduced</th>\n",
       "      <th>Appearances</th>\n",
       "      <th>Average_Annual_Appearances</th>\n",
       "    </tr>\n",
       "  </thead>\n",
       "  <tbody>\n",
       "    <tr>\n",
       "      <th>0</th>\n",
       "      <td>A'Lars (Earth-9997)</td>\n",
       "      <td>Male</td>\n",
       "      <td>Married</td>\n",
       "      <td>NaN</td>\n",
       "      <td>NaN</td>\n",
       "      <td>Blue</td>\n",
       "      <td>Black</td>\n",
       "      <td>Alive</td>\n",
       "      <td>Earth-9997</td>\n",
       "      <td>Secret</td>\n",
       "      <td>2000.0</td>\n",
       "      <td>2.0</td>\n",
       "      <td>0.090909</td>\n",
       "    </tr>\n",
       "    <tr>\n",
       "      <th>1</th>\n",
       "      <td>A'Kurru U'mbaya (Earth-616)</td>\n",
       "      <td>Male</td>\n",
       "      <td>Single</td>\n",
       "      <td>NaN</td>\n",
       "      <td>NaN</td>\n",
       "      <td>White</td>\n",
       "      <td>No hair at all</td>\n",
       "      <td>Alive</td>\n",
       "      <td>Earth-616</td>\n",
       "      <td>Secret</td>\n",
       "      <td>1992.0</td>\n",
       "      <td>2.0</td>\n",
       "      <td>0.066667</td>\n",
       "    </tr>\n",
       "    <tr>\n",
       "      <th>2</th>\n",
       "      <td>A'Lars (Earth-616)</td>\n",
       "      <td>Male</td>\n",
       "      <td>Married</td>\n",
       "      <td>1.85</td>\n",
       "      <td>95.25</td>\n",
       "      <td>Blue</td>\n",
       "      <td>Black</td>\n",
       "      <td>Alive</td>\n",
       "      <td>Earth-616</td>\n",
       "      <td>Public</td>\n",
       "      <td>1972.0</td>\n",
       "      <td>65.0</td>\n",
       "      <td>1.300000</td>\n",
       "    </tr>\n",
       "    <tr>\n",
       "      <th>3</th>\n",
       "      <td>'Lectron (Earth-12772)</td>\n",
       "      <td>Male</td>\n",
       "      <td>NaN</td>\n",
       "      <td>NaN</td>\n",
       "      <td>NaN</td>\n",
       "      <td>NaN</td>\n",
       "      <td>NaN</td>\n",
       "      <td>Alive</td>\n",
       "      <td>Earth-12772</td>\n",
       "      <td>Secret</td>\n",
       "      <td>1997.0</td>\n",
       "      <td>1.0</td>\n",
       "      <td>0.040000</td>\n",
       "    </tr>\n",
       "    <tr>\n",
       "      <th>4</th>\n",
       "      <td>A'Kane (Earth-616)</td>\n",
       "      <td>Female</td>\n",
       "      <td>Widowed</td>\n",
       "      <td>NaN</td>\n",
       "      <td>NaN</td>\n",
       "      <td>NaN</td>\n",
       "      <td>Black</td>\n",
       "      <td>Deceased</td>\n",
       "      <td>Earth-616</td>\n",
       "      <td>No Dual Identity</td>\n",
       "      <td>1995.0</td>\n",
       "      <td>1.0</td>\n",
       "      <td>0.037037</td>\n",
       "    </tr>\n",
       "  </tbody>\n",
       "</table>\n",
       "</div>"
      ],
      "text/plain": [
       "                          Name  Gender Marital_Status  Height  Weight  \\\n",
       "0          A'Lars (Earth-9997)    Male        Married     NaN     NaN   \n",
       "1  A'Kurru U'mbaya (Earth-616)    Male         Single     NaN     NaN   \n",
       "2           A'Lars (Earth-616)    Male        Married    1.85   95.25   \n",
       "3       'Lectron (Earth-12772)    Male            NaN     NaN     NaN   \n",
       "4           A'Kane (Earth-616)  Female        Widowed     NaN     NaN   \n",
       "\n",
       "  Eye_Color      Hair_Color Living_Status      Reality          Identity  \\\n",
       "0      Blue           Black         Alive   Earth-9997            Secret   \n",
       "1     White  No hair at all         Alive    Earth-616            Secret   \n",
       "2      Blue           Black         Alive    Earth-616            Public   \n",
       "3       NaN             NaN         Alive  Earth-12772            Secret   \n",
       "4       NaN           Black      Deceased    Earth-616  No Dual Identity   \n",
       "\n",
       "   Year_Introduced  Appearances  Average_Annual_Appearances  \n",
       "0           2000.0          2.0                    0.090909  \n",
       "1           1992.0          2.0                    0.066667  \n",
       "2           1972.0         65.0                    1.300000  \n",
       "3           1997.0          1.0                    0.040000  \n",
       "4           1995.0          1.0                    0.037037  "
      ]
     },
     "execution_count": 2,
     "metadata": {},
     "output_type": "execute_result"
    }
   ],
   "source": [
    "df = pd.read_csv('characters_cleaned.csv', index_col = [0])\n",
    "df.head(5)"
   ]
  },
  {
   "cell_type": "code",
   "execution_count": 3,
   "metadata": {},
   "outputs": [
    {
     "name": "stdout",
     "output_type": "stream",
     "text": [
      "(64193, 10) (64193,)\n"
     ]
    }
   ],
   "source": [
    "cat_features = ['Gender', 'Marital_Status', 'Eye_Color', 'Hair_Color', 'Living_Status', 'Reality', 'Identity']\n",
    "all_features = ['Height', 'Weight', 'Year_Introduced']\n",
    "all_features.extend(cat_features)\n",
    "X = df[all_features].copy()\n",
    "y = df['Average_Annual_Appearances'].copy()\n",
    "print(X.shape, y.shape)"
   ]
  },
  {
   "cell_type": "code",
   "execution_count": 4,
   "metadata": {},
   "outputs": [
    {
     "data": {
      "text/plain": [
       "Height             float64\n",
       "Weight             float64\n",
       "Year_Introduced    float64\n",
       "Gender              object\n",
       "Marital_Status      object\n",
       "Eye_Color           object\n",
       "Hair_Color          object\n",
       "Living_Status       object\n",
       "Reality             object\n",
       "Identity            object\n",
       "dtype: object"
      ]
     },
     "execution_count": 4,
     "metadata": {},
     "output_type": "execute_result"
    }
   ],
   "source": [
    "X[cat_features] = X[cat_features].astype('str')\n",
    "X.dtypes"
   ]
  },
  {
   "cell_type": "code",
   "execution_count": 5,
   "metadata": {},
   "outputs": [
    {
     "name": "stdout",
     "output_type": "stream",
     "text": [
      "(41083, 10) (10271, 10) (12839, 10) (41083,) (10271,) (12839,)\n"
     ]
    }
   ],
   "source": [
    "train_X, test_X, train_y, test_y = train_test_split(X, y, test_size = 0.20)\n",
    "train_X, val_X, train_y, val_y = train_test_split(train_X, train_y, test_size = 0.20)\n",
    "print(train_X.shape, val_X.shape, test_X.shape, train_y.shape, val_y.shape, test_y.shape)"
   ]
  },
  {
   "cell_type": "code",
   "execution_count": 6,
   "metadata": {},
   "outputs": [
    {
     "name": "stdout",
     "output_type": "stream",
     "text": [
      "Learning rate set to 0.091252\n",
      "0:\tlearn: 1.2958810\ttest: 1.2063255\tbest: 1.2063255 (0)\ttotal: 288ms\tremaining: 4m 48s\n",
      "1:\tlearn: 1.2799105\ttest: 1.1915980\tbest: 1.1915980 (1)\ttotal: 498ms\tremaining: 4m 8s\n",
      "2:\tlearn: 1.2647888\ttest: 1.1781478\tbest: 1.1781478 (2)\ttotal: 672ms\tremaining: 3m 43s\n",
      "3:\tlearn: 1.2521944\ttest: 1.1664152\tbest: 1.1664152 (3)\ttotal: 816ms\tremaining: 3m 23s\n",
      "4:\tlearn: 1.2430409\ttest: 1.1557187\tbest: 1.1557187 (4)\ttotal: 971ms\tremaining: 3m 13s\n",
      "5:\tlearn: 1.2333710\ttest: 1.1469008\tbest: 1.1469008 (5)\ttotal: 1.12s\tremaining: 3m 5s\n",
      "6:\tlearn: 1.2242849\ttest: 1.1396765\tbest: 1.1396765 (6)\ttotal: 1.25s\tremaining: 2m 57s\n",
      "7:\tlearn: 1.2176004\ttest: 1.1319584\tbest: 1.1319584 (7)\ttotal: 1.41s\tremaining: 2m 54s\n",
      "8:\tlearn: 1.2114107\ttest: 1.1263988\tbest: 1.1263988 (8)\ttotal: 1.64s\tremaining: 3m 1s\n",
      "9:\tlearn: 1.2054172\ttest: 1.1232895\tbest: 1.1232895 (9)\ttotal: 1.78s\tremaining: 2m 55s\n",
      "10:\tlearn: 1.2000427\ttest: 1.1192335\tbest: 1.1192335 (10)\ttotal: 1.91s\tremaining: 2m 51s\n",
      "11:\tlearn: 1.1956740\ttest: 1.1156177\tbest: 1.1156177 (11)\ttotal: 2.05s\tremaining: 2m 48s\n",
      "12:\tlearn: 1.1924290\ttest: 1.1127526\tbest: 1.1127526 (12)\ttotal: 2.16s\tremaining: 2m 44s\n",
      "13:\tlearn: 1.1894035\ttest: 1.1102238\tbest: 1.1102238 (13)\ttotal: 2.28s\tremaining: 2m 40s\n",
      "14:\tlearn: 1.1842388\ttest: 1.1046036\tbest: 1.1046036 (14)\ttotal: 2.36s\tremaining: 2m 35s\n",
      "15:\tlearn: 1.1806199\ttest: 1.1008630\tbest: 1.1008630 (15)\ttotal: 2.48s\tremaining: 2m 32s\n",
      "16:\tlearn: 1.1774145\ttest: 1.0970300\tbest: 1.0970300 (16)\ttotal: 2.6s\tremaining: 2m 30s\n",
      "17:\tlearn: 1.1735944\ttest: 1.0951207\tbest: 1.0951207 (17)\ttotal: 2.71s\tremaining: 2m 27s\n",
      "18:\tlearn: 1.1706911\ttest: 1.0930271\tbest: 1.0930271 (18)\ttotal: 2.8s\tremaining: 2m 24s\n",
      "19:\tlearn: 1.1675804\ttest: 1.0905893\tbest: 1.0905893 (19)\ttotal: 2.89s\tremaining: 2m 21s\n",
      "20:\tlearn: 1.1653717\ttest: 1.0890691\tbest: 1.0890691 (20)\ttotal: 3.02s\tremaining: 2m 20s\n",
      "21:\tlearn: 1.1638260\ttest: 1.0877423\tbest: 1.0877423 (21)\ttotal: 3.1s\tremaining: 2m 18s\n",
      "22:\tlearn: 1.1607091\ttest: 1.0851553\tbest: 1.0851553 (22)\ttotal: 3.17s\tremaining: 2m 14s\n",
      "23:\tlearn: 1.1591186\ttest: 1.0837581\tbest: 1.0837581 (23)\ttotal: 3.25s\tremaining: 2m 12s\n",
      "24:\tlearn: 1.1574358\ttest: 1.0823938\tbest: 1.0823938 (24)\ttotal: 3.31s\tremaining: 2m 9s\n",
      "25:\tlearn: 1.1562270\ttest: 1.0813813\tbest: 1.0813813 (25)\ttotal: 3.4s\tremaining: 2m 7s\n",
      "26:\tlearn: 1.1513909\ttest: 1.0766762\tbest: 1.0766762 (26)\ttotal: 3.47s\tremaining: 2m 5s\n",
      "27:\tlearn: 1.1511426\ttest: 1.0766437\tbest: 1.0766437 (27)\ttotal: 3.54s\tremaining: 2m 3s\n",
      "28:\tlearn: 1.1495166\ttest: 1.0759646\tbest: 1.0759646 (28)\ttotal: 3.64s\tremaining: 2m 1s\n",
      "29:\tlearn: 1.1491422\ttest: 1.0757434\tbest: 1.0757434 (29)\ttotal: 3.72s\tremaining: 2m\n",
      "30:\tlearn: 1.1475999\ttest: 1.0748764\tbest: 1.0748764 (30)\ttotal: 3.78s\tremaining: 1m 58s\n",
      "31:\tlearn: 1.1469970\ttest: 1.0745521\tbest: 1.0745521 (31)\ttotal: 3.88s\tremaining: 1m 57s\n",
      "32:\tlearn: 1.1457733\ttest: 1.0743622\tbest: 1.0743622 (32)\ttotal: 3.97s\tremaining: 1m 56s\n",
      "33:\tlearn: 1.1452997\ttest: 1.0740505\tbest: 1.0740505 (33)\ttotal: 4.05s\tremaining: 1m 55s\n",
      "34:\tlearn: 1.1438874\ttest: 1.0729172\tbest: 1.0729172 (34)\ttotal: 4.12s\tremaining: 1m 53s\n",
      "35:\tlearn: 1.1430492\ttest: 1.0721994\tbest: 1.0721994 (35)\ttotal: 4.2s\tremaining: 1m 52s\n",
      "36:\tlearn: 1.1415600\ttest: 1.0720619\tbest: 1.0720619 (36)\ttotal: 4.26s\tremaining: 1m 50s\n",
      "37:\tlearn: 1.1404004\ttest: 1.0721315\tbest: 1.0720619 (36)\ttotal: 4.36s\tremaining: 1m 50s\n",
      "38:\tlearn: 1.1395150\ttest: 1.0717156\tbest: 1.0717156 (38)\ttotal: 4.44s\tremaining: 1m 49s\n",
      "39:\tlearn: 1.1382249\ttest: 1.0696105\tbest: 1.0696105 (39)\ttotal: 4.54s\tremaining: 1m 48s\n",
      "40:\tlearn: 1.1381248\ttest: 1.0695916\tbest: 1.0695916 (40)\ttotal: 4.62s\tremaining: 1m 48s\n",
      "41:\tlearn: 1.1370133\ttest: 1.0692552\tbest: 1.0692552 (41)\ttotal: 4.69s\tremaining: 1m 47s\n",
      "42:\tlearn: 1.1343618\ttest: 1.0664102\tbest: 1.0664102 (42)\ttotal: 4.78s\tremaining: 1m 46s\n",
      "43:\tlearn: 1.1322559\ttest: 1.0660351\tbest: 1.0660351 (43)\ttotal: 4.86s\tremaining: 1m 45s\n",
      "44:\tlearn: 1.1300084\ttest: 1.0650153\tbest: 1.0650153 (44)\ttotal: 4.95s\tremaining: 1m 44s\n",
      "45:\tlearn: 1.1294112\ttest: 1.0646324\tbest: 1.0646324 (45)\ttotal: 5.04s\tremaining: 1m 44s\n",
      "46:\tlearn: 1.1269493\ttest: 1.0650293\tbest: 1.0646324 (45)\ttotal: 5.13s\tremaining: 1m 43s\n",
      "47:\tlearn: 1.1242660\ttest: 1.0644479\tbest: 1.0644479 (47)\ttotal: 5.23s\tremaining: 1m 43s\n",
      "48:\tlearn: 1.1240500\ttest: 1.0643339\tbest: 1.0643339 (48)\ttotal: 5.33s\tremaining: 1m 43s\n",
      "49:\tlearn: 1.1234939\ttest: 1.0640578\tbest: 1.0640578 (49)\ttotal: 5.42s\tremaining: 1m 42s\n",
      "50:\tlearn: 1.1230456\ttest: 1.0639694\tbest: 1.0639694 (50)\ttotal: 5.53s\tremaining: 1m 42s\n",
      "51:\tlearn: 1.1222554\ttest: 1.0636833\tbest: 1.0636833 (51)\ttotal: 5.61s\tremaining: 1m 42s\n",
      "52:\tlearn: 1.1207797\ttest: 1.0646935\tbest: 1.0636833 (51)\ttotal: 5.69s\tremaining: 1m 41s\n",
      "53:\tlearn: 1.1186314\ttest: 1.0656712\tbest: 1.0636833 (51)\ttotal: 5.78s\tremaining: 1m 41s\n",
      "54:\tlearn: 1.1172262\ttest: 1.0656437\tbest: 1.0636833 (51)\ttotal: 5.84s\tremaining: 1m 40s\n",
      "55:\tlearn: 1.1163269\ttest: 1.0665225\tbest: 1.0636833 (51)\ttotal: 5.92s\tremaining: 1m 39s\n",
      "56:\tlearn: 1.1161074\ttest: 1.0659316\tbest: 1.0636833 (51)\ttotal: 6.01s\tremaining: 1m 39s\n",
      "57:\tlearn: 1.1158153\ttest: 1.0655329\tbest: 1.0636833 (51)\ttotal: 6.11s\tremaining: 1m 39s\n",
      "58:\tlearn: 1.1137980\ttest: 1.0652276\tbest: 1.0636833 (51)\ttotal: 6.2s\tremaining: 1m 38s\n",
      "59:\tlearn: 1.1137688\ttest: 1.0651964\tbest: 1.0636833 (51)\ttotal: 6.25s\tremaining: 1m 37s\n",
      "60:\tlearn: 1.1122217\ttest: 1.0648701\tbest: 1.0636833 (51)\ttotal: 6.36s\tremaining: 1m 37s\n",
      "61:\tlearn: 1.1113327\ttest: 1.0648873\tbest: 1.0636833 (51)\ttotal: 6.43s\tremaining: 1m 37s\n",
      "62:\tlearn: 1.1112790\ttest: 1.0648731\tbest: 1.0636833 (51)\ttotal: 6.51s\tremaining: 1m 36s\n",
      "63:\tlearn: 1.1108307\ttest: 1.0644801\tbest: 1.0636833 (51)\ttotal: 6.58s\tremaining: 1m 36s\n",
      "64:\tlearn: 1.1108122\ttest: 1.0644778\tbest: 1.0636833 (51)\ttotal: 6.67s\tremaining: 1m 36s\n",
      "65:\tlearn: 1.1107023\ttest: 1.0644842\tbest: 1.0636833 (51)\ttotal: 6.77s\tremaining: 1m 35s\n",
      "66:\tlearn: 1.1106271\ttest: 1.0644633\tbest: 1.0636833 (51)\ttotal: 6.86s\tremaining: 1m 35s\n",
      "67:\tlearn: 1.1101503\ttest: 1.0644309\tbest: 1.0636833 (51)\ttotal: 6.95s\tremaining: 1m 35s\n",
      "68:\tlearn: 1.1095325\ttest: 1.0641954\tbest: 1.0636833 (51)\ttotal: 7.04s\tremaining: 1m 34s\n",
      "69:\tlearn: 1.1081963\ttest: 1.0639896\tbest: 1.0636833 (51)\ttotal: 7.11s\tremaining: 1m 34s\n",
      "70:\tlearn: 1.1077574\ttest: 1.0641936\tbest: 1.0636833 (51)\ttotal: 7.2s\tremaining: 1m 34s\n",
      "71:\tlearn: 1.1071887\ttest: 1.0641028\tbest: 1.0636833 (51)\ttotal: 7.29s\tremaining: 1m 33s\n",
      "72:\tlearn: 1.1054572\ttest: 1.0641008\tbest: 1.0636833 (51)\ttotal: 7.43s\tremaining: 1m 34s\n",
      "73:\tlearn: 1.1044725\ttest: 1.0634069\tbest: 1.0634069 (73)\ttotal: 7.53s\tremaining: 1m 34s\n",
      "74:\tlearn: 1.1043260\ttest: 1.0633036\tbest: 1.0633036 (74)\ttotal: 7.64s\tremaining: 1m 34s\n",
      "75:\tlearn: 1.1026861\ttest: 1.0624260\tbest: 1.0624260 (75)\ttotal: 7.73s\tremaining: 1m 33s\n",
      "76:\tlearn: 1.1008681\ttest: 1.0618957\tbest: 1.0618957 (76)\ttotal: 7.81s\tremaining: 1m 33s\n",
      "77:\tlearn: 1.1007811\ttest: 1.0618493\tbest: 1.0618493 (77)\ttotal: 7.88s\tremaining: 1m 33s\n",
      "78:\tlearn: 1.1007414\ttest: 1.0618104\tbest: 1.0618104 (78)\ttotal: 7.95s\tremaining: 1m 32s\n",
      "79:\tlearn: 1.0989416\ttest: 1.0622412\tbest: 1.0618104 (78)\ttotal: 8.02s\tremaining: 1m 32s\n",
      "80:\tlearn: 1.0985377\ttest: 1.0621366\tbest: 1.0618104 (78)\ttotal: 8.1s\tremaining: 1m 31s\n",
      "81:\tlearn: 1.0981993\ttest: 1.0620803\tbest: 1.0618104 (78)\ttotal: 8.18s\tremaining: 1m 31s\n",
      "82:\tlearn: 1.0979907\ttest: 1.0619436\tbest: 1.0618104 (78)\ttotal: 8.24s\tremaining: 1m 31s\n",
      "83:\tlearn: 1.0979225\ttest: 1.0619028\tbest: 1.0618104 (78)\ttotal: 8.31s\tremaining: 1m 30s\n",
      "84:\tlearn: 1.0977226\ttest: 1.0617558\tbest: 1.0617558 (84)\ttotal: 8.39s\tremaining: 1m 30s\n",
      "85:\tlearn: 1.0962069\ttest: 1.0619827\tbest: 1.0617558 (84)\ttotal: 8.48s\tremaining: 1m 30s\n",
      "86:\tlearn: 1.0961425\ttest: 1.0618786\tbest: 1.0617558 (84)\ttotal: 8.55s\tremaining: 1m 29s\n",
      "87:\tlearn: 1.0956920\ttest: 1.0619931\tbest: 1.0617558 (84)\ttotal: 8.63s\tremaining: 1m 29s\n",
      "88:\tlearn: 1.0955128\ttest: 1.0620620\tbest: 1.0617558 (84)\ttotal: 8.68s\tremaining: 1m 28s\n",
      "89:\tlearn: 1.0950360\ttest: 1.0622491\tbest: 1.0617558 (84)\ttotal: 8.76s\tremaining: 1m 28s\n",
      "90:\tlearn: 1.0934878\ttest: 1.0626905\tbest: 1.0617558 (84)\ttotal: 8.84s\tremaining: 1m 28s\n",
      "91:\tlearn: 1.0926816\ttest: 1.0626901\tbest: 1.0617558 (84)\ttotal: 8.93s\tremaining: 1m 28s\n",
      "92:\tlearn: 1.0925658\ttest: 1.0627352\tbest: 1.0617558 (84)\ttotal: 8.98s\tremaining: 1m 27s\n",
      "93:\tlearn: 1.0918395\ttest: 1.0628732\tbest: 1.0617558 (84)\ttotal: 9.07s\tremaining: 1m 27s\n",
      "94:\tlearn: 1.0918380\ttest: 1.0628641\tbest: 1.0617558 (84)\ttotal: 9.12s\tremaining: 1m 26s\n",
      "95:\tlearn: 1.0912761\ttest: 1.0632098\tbest: 1.0617558 (84)\ttotal: 9.2s\tremaining: 1m 26s\n",
      "96:\tlearn: 1.0902928\ttest: 1.0629834\tbest: 1.0617558 (84)\ttotal: 9.29s\tremaining: 1m 26s\n",
      "97:\tlearn: 1.0898134\ttest: 1.0632597\tbest: 1.0617558 (84)\ttotal: 9.39s\tremaining: 1m 26s\n",
      "98:\tlearn: 1.0890549\ttest: 1.0631393\tbest: 1.0617558 (84)\ttotal: 9.49s\tremaining: 1m 26s\n",
      "99:\tlearn: 1.0888619\ttest: 1.0629474\tbest: 1.0617558 (84)\ttotal: 9.58s\tremaining: 1m 26s\n",
      "100:\tlearn: 1.0882702\ttest: 1.0629466\tbest: 1.0617558 (84)\ttotal: 9.68s\tremaining: 1m 26s\n",
      "101:\tlearn: 1.0880070\ttest: 1.0626610\tbest: 1.0617558 (84)\ttotal: 9.76s\tremaining: 1m 25s\n",
      "102:\tlearn: 1.0878605\ttest: 1.0626046\tbest: 1.0617558 (84)\ttotal: 9.82s\tremaining: 1m 25s\n",
      "103:\tlearn: 1.0877639\ttest: 1.0625346\tbest: 1.0617558 (84)\ttotal: 9.88s\tremaining: 1m 25s\n",
      "104:\tlearn: 1.0875222\ttest: 1.0622819\tbest: 1.0617558 (84)\ttotal: 9.94s\tremaining: 1m 24s\n",
      "105:\tlearn: 1.0874779\ttest: 1.0622820\tbest: 1.0617558 (84)\ttotal: 10s\tremaining: 1m 24s\n",
      "106:\tlearn: 1.0869667\ttest: 1.0623010\tbest: 1.0617558 (84)\ttotal: 10s\tremaining: 1m 23s\n",
      "107:\tlearn: 1.0867905\ttest: 1.0622676\tbest: 1.0617558 (84)\ttotal: 10.1s\tremaining: 1m 23s\n",
      "108:\tlearn: 1.0867457\ttest: 1.0622599\tbest: 1.0617558 (84)\ttotal: 10.2s\tremaining: 1m 23s\n",
      "109:\tlearn: 1.0849571\ttest: 1.0630517\tbest: 1.0617558 (84)\ttotal: 10.3s\tremaining: 1m 23s\n",
      "110:\tlearn: 1.0840306\ttest: 1.0626255\tbest: 1.0617558 (84)\ttotal: 10.4s\tremaining: 1m 23s\n",
      "111:\tlearn: 1.0839042\ttest: 1.0626899\tbest: 1.0617558 (84)\ttotal: 10.5s\tremaining: 1m 23s\n",
      "112:\tlearn: 1.0837538\ttest: 1.0625891\tbest: 1.0617558 (84)\ttotal: 10.6s\tremaining: 1m 23s\n",
      "113:\tlearn: 1.0830702\ttest: 1.0620123\tbest: 1.0617558 (84)\ttotal: 10.7s\tremaining: 1m 22s\n",
      "114:\tlearn: 1.0830684\ttest: 1.0620125\tbest: 1.0617558 (84)\ttotal: 10.7s\tremaining: 1m 22s\n",
      "Stopped by overfitting detector  (30 iterations wait)\n",
      "\n",
      "bestTest = 1.061755846\n",
      "bestIteration = 84\n",
      "\n",
      "Shrink model to first 85 iterations.\n"
     ]
    },
    {
     "data": {
      "text/plain": [
       "<catboost.core.CatBoostRegressor at 0x1aaa69d0>"
      ]
     },
     "execution_count": 6,
     "metadata": {},
     "output_type": "execute_result"
    }
   ],
   "source": [
    "cat_reg = CatBoostRegressor()\n",
    "cat_reg.fit(X = train_X, y = train_y, cat_features = cat_features, use_best_model = True, eval_set = (val_X, val_y), \n",
    "            early_stopping_rounds = 30)"
   ]
  },
  {
   "cell_type": "code",
   "execution_count": 7,
   "metadata": {},
   "outputs": [
    {
     "data": {
      "text/plain": [
       "0.2681235834862088"
      ]
     },
     "execution_count": 7,
     "metadata": {},
     "output_type": "execute_result"
    }
   ],
   "source": [
    "cat_reg.score(test_X, test_y)"
   ]
  },
  {
   "cell_type": "code",
   "execution_count": 8,
   "metadata": {},
   "outputs": [
    {
     "data": {
      "text/plain": [
       "{'learn': {'RMSE': 1.0830684452868142},\n",
       " 'validation': {'RMSE': 1.0617558462619412}}"
      ]
     },
     "execution_count": 8,
     "metadata": {},
     "output_type": "execute_result"
    }
   ],
   "source": [
    "cat_reg.best_score_"
   ]
  },
  {
   "cell_type": "code",
   "execution_count": 9,
   "metadata": {},
   "outputs": [],
   "source": [
    "cat_reg_rfe = CatBoostRegressor(cat_features = cat_features)\n",
    "rfe_results = cat_reg_rfe.select_features(X = train_X, y = train_y, eval_set = (val_X, val_y), features_for_select = [i for i in range(10)], \n",
    "                        num_features_to_select = 6, steps = 3, algorithm = EFeaturesSelectionAlgorithm.RecursiveByShapValues,\n",
    "                        shap_calc_type = EShapCalcType.Regular, logging_level='Silent')"
   ]
  },
  {
   "cell_type": "code",
   "execution_count": 10,
   "metadata": {},
   "outputs": [
    {
     "data": {
      "text/plain": [
       "['Height',\n",
       " 'Year_Introduced',\n",
       " 'Gender',\n",
       " 'Marital_Status',\n",
       " 'Reality',\n",
       " 'Identity']"
      ]
     },
     "execution_count": 10,
     "metadata": {},
     "output_type": "execute_result"
    }
   ],
   "source": [
    "rfe_results['selected_features_names']"
   ]
  },
  {
   "cell_type": "code",
   "execution_count": 11,
   "metadata": {},
   "outputs": [
    {
     "data": {
      "text/plain": [
       "['Hair_Color', 'Weight', 'Eye_Color', 'Living_Status']"
      ]
     },
     "execution_count": 11,
     "metadata": {},
     "output_type": "execute_result"
    }
   ],
   "source": [
    "rfe_results['eliminated_features_names']"
   ]
  },
  {
   "cell_type": "code",
   "execution_count": 12,
   "metadata": {},
   "outputs": [
    {
     "data": {
      "text/plain": [
       "0.2519105114984882"
      ]
     },
     "execution_count": 12,
     "metadata": {},
     "output_type": "execute_result"
    }
   ],
   "source": [
    "cat_reg_rfe.score(test_X, test_y)"
   ]
  },
  {
   "cell_type": "code",
   "execution_count": 13,
   "metadata": {},
   "outputs": [
    {
     "data": {
      "text/plain": [
       "{'learn': {'RMSE': 0.9196034604436184},\n",
       " 'validation': {'RMSE': 1.0430938433805355}}"
      ]
     },
     "execution_count": 13,
     "metadata": {},
     "output_type": "execute_result"
    }
   ],
   "source": [
    "cat_reg_rfe.best_score_"
   ]
  },
  {
   "cell_type": "code",
   "execution_count": null,
   "metadata": {},
   "outputs": [],
   "source": [
    "# To do: use a for loop to iterate through all num_features_to_select from 3 to 9 and get the best result. tune both the old and the rfe models."
   ]
  }
 ],
 "metadata": {
  "interpreter": {
   "hash": "4f3e19df1e0a2f309f08dc4afc5ce24bf6fcd5c6ae41370a59f46d1c3c5f04de"
  },
  "kernelspec": {
   "display_name": "Python 3.8.10 64-bit ('marvel-env': venv)",
   "language": "python",
   "name": "python3"
  },
  "language_info": {
   "codemirror_mode": {
    "name": "ipython",
    "version": 3
   },
   "file_extension": ".py",
   "mimetype": "text/x-python",
   "name": "python",
   "nbconvert_exporter": "python",
   "pygments_lexer": "ipython3",
   "version": "3.8.10"
  },
  "orig_nbformat": 4
 },
 "nbformat": 4,
 "nbformat_minor": 2
}
