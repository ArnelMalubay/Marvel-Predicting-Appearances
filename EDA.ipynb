{
 "cells": [
  {
   "cell_type": "markdown",
   "metadata": {},
   "source": [
    "# EDA and Data Cleaning of Marvel Characters' Data"
   ]
  },
  {
   "cell_type": "code",
   "execution_count": 47,
   "metadata": {},
   "outputs": [],
   "source": [
    "import pandas as pd\n",
    "import numpy as np\n",
    "import matplotlib.pyplot as plt\n",
    "import seaborn as sns\n",
    "sns.set_theme()"
   ]
  },
  {
   "cell_type": "code",
   "execution_count": 48,
   "metadata": {},
   "outputs": [],
   "source": [
    "df = pd.read_csv('marvelscraping/characters.csv')"
   ]
  },
  {
   "cell_type": "code",
   "execution_count": 49,
   "metadata": {},
   "outputs": [
    {
     "data": {
      "text/html": [
       "<div>\n",
       "<style scoped>\n",
       "    .dataframe tbody tr th:only-of-type {\n",
       "        vertical-align: middle;\n",
       "    }\n",
       "\n",
       "    .dataframe tbody tr th {\n",
       "        vertical-align: top;\n",
       "    }\n",
       "\n",
       "    .dataframe thead th {\n",
       "        text-align: right;\n",
       "    }\n",
       "</style>\n",
       "<table border=\"1\" class=\"dataframe\">\n",
       "  <thead>\n",
       "    <tr style=\"text-align: right;\">\n",
       "      <th></th>\n",
       "      <th>Name</th>\n",
       "      <th>Gender</th>\n",
       "      <th>Marital_Status</th>\n",
       "      <th>Height</th>\n",
       "      <th>Weight</th>\n",
       "      <th>Eye_Color</th>\n",
       "      <th>Hair_Color</th>\n",
       "      <th>Living_Status</th>\n",
       "      <th>Reality</th>\n",
       "      <th>Birthplace</th>\n",
       "      <th>Identity</th>\n",
       "      <th>Citizenship</th>\n",
       "      <th>First_Appearance</th>\n",
       "      <th>Appearances</th>\n",
       "    </tr>\n",
       "  </thead>\n",
       "  <tbody>\n",
       "    <tr>\n",
       "      <th>0</th>\n",
       "      <td>6-Ball (Earth-616)</td>\n",
       "      <td>Male</td>\n",
       "      <td>Single</td>\n",
       "      <td>NaN</td>\n",
       "      <td>NaN</td>\n",
       "      <td>NaN</td>\n",
       "      <td>NaN</td>\n",
       "      <td>Alive</td>\n",
       "      <td>Earth-616</td>\n",
       "      <td>NaN</td>\n",
       "      <td>Secret</td>\n",
       "      <td>American</td>\n",
       "      <td>July, 1991</td>\n",
       "      <td>1.0</td>\n",
       "    </tr>\n",
       "    <tr>\n",
       "      <th>1</th>\n",
       "      <td>6R (Earth-616)</td>\n",
       "      <td>Agender</td>\n",
       "      <td>NaN</td>\n",
       "      <td>NaN</td>\n",
       "      <td>NaN</td>\n",
       "      <td>NaN</td>\n",
       "      <td>NaN</td>\n",
       "      <td>Deceased</td>\n",
       "      <td>Earth-616</td>\n",
       "      <td>Sentinel Headquarters</td>\n",
       "      <td>NaN</td>\n",
       "      <td>NaN</td>\n",
       "      <td>July, 1969</td>\n",
       "      <td>1.0</td>\n",
       "    </tr>\n",
       "    <tr>\n",
       "      <th>2</th>\n",
       "      <td>762 (Legion Personality) (Earth-616)</td>\n",
       "      <td>Male</td>\n",
       "      <td>Single</td>\n",
       "      <td>NaN</td>\n",
       "      <td>NaN</td>\n",
       "      <td>NaN</td>\n",
       "      <td>Black</td>\n",
       "      <td>Alive</td>\n",
       "      <td>Earth-616</td>\n",
       "      <td>NaN</td>\n",
       "      <td>Secret</td>\n",
       "      <td>NaN</td>\n",
       "      <td>June, 2010</td>\n",
       "      <td>1.0</td>\n",
       "    </tr>\n",
       "    <tr>\n",
       "      <th>3</th>\n",
       "      <td>627 (Skullbot) (Earth-12041)</td>\n",
       "      <td>Agender</td>\n",
       "      <td>NaN</td>\n",
       "      <td>NaN</td>\n",
       "      <td>NaN</td>\n",
       "      <td>Blue</td>\n",
       "      <td>No Hair At All</td>\n",
       "      <td>Deceased</td>\n",
       "      <td>Earth-12041</td>\n",
       "      <td>NaN</td>\n",
       "      <td>Public</td>\n",
       "      <td>NaN</td>\n",
       "      <td>June 27, 2017</td>\n",
       "      <td>1.0</td>\n",
       "    </tr>\n",
       "    <tr>\n",
       "      <th>4</th>\n",
       "      <td>749 (Legion Personality) (Earth-616)</td>\n",
       "      <td>Male</td>\n",
       "      <td>Single</td>\n",
       "      <td>NaN</td>\n",
       "      <td>NaN</td>\n",
       "      <td>NaN</td>\n",
       "      <td>Black</td>\n",
       "      <td>Alive</td>\n",
       "      <td>Earth-616</td>\n",
       "      <td>Legion</td>\n",
       "      <td>Secret</td>\n",
       "      <td>NaN</td>\n",
       "      <td>June, 2011</td>\n",
       "      <td>1.0</td>\n",
       "    </tr>\n",
       "  </tbody>\n",
       "</table>\n",
       "</div>"
      ],
      "text/plain": [
       "                                   Name   Gender Marital_Status  Height  \\\n",
       "0                    6-Ball (Earth-616)     Male         Single     NaN   \n",
       "1                        6R (Earth-616)  Agender            NaN     NaN   \n",
       "2  762 (Legion Personality) (Earth-616)     Male         Single     NaN   \n",
       "3          627 (Skullbot) (Earth-12041)  Agender            NaN     NaN   \n",
       "4  749 (Legion Personality) (Earth-616)     Male         Single     NaN   \n",
       "\n",
       "   Weight Eye_Color      Hair_Color Living_Status      Reality  \\\n",
       "0     NaN       NaN             NaN         Alive    Earth-616   \n",
       "1     NaN       NaN             NaN      Deceased    Earth-616   \n",
       "2     NaN       NaN           Black         Alive    Earth-616   \n",
       "3     NaN      Blue  No Hair At All      Deceased  Earth-12041   \n",
       "4     NaN       NaN           Black         Alive    Earth-616   \n",
       "\n",
       "              Birthplace Identity Citizenship First_Appearance  Appearances  \n",
       "0                    NaN   Secret    American       July, 1991          1.0  \n",
       "1  Sentinel Headquarters      NaN         NaN       July, 1969          1.0  \n",
       "2                    NaN   Secret         NaN       June, 2010          1.0  \n",
       "3                    NaN   Public         NaN    June 27, 2017          1.0  \n",
       "4                 Legion   Secret         NaN       June, 2011          1.0  "
      ]
     },
     "execution_count": 49,
     "metadata": {},
     "output_type": "execute_result"
    }
   ],
   "source": [
    "df.head()"
   ]
  },
  {
   "cell_type": "code",
   "execution_count": 50,
   "metadata": {},
   "outputs": [
    {
     "data": {
      "text/plain": [
       "(74350, 14)"
      ]
     },
     "execution_count": 50,
     "metadata": {},
     "output_type": "execute_result"
    }
   ],
   "source": [
    "df.shape"
   ]
  },
  {
   "cell_type": "code",
   "execution_count": 51,
   "metadata": {},
   "outputs": [
    {
     "data": {
      "text/plain": [
       "Name                 object\n",
       "Gender               object\n",
       "Marital_Status       object\n",
       "Height              float64\n",
       "Weight              float64\n",
       "Eye_Color            object\n",
       "Hair_Color           object\n",
       "Living_Status        object\n",
       "Reality              object\n",
       "Birthplace           object\n",
       "Identity             object\n",
       "Citizenship          object\n",
       "First_Appearance     object\n",
       "Appearances         float64\n",
       "dtype: object"
      ]
     },
     "execution_count": 51,
     "metadata": {},
     "output_type": "execute_result"
    }
   ],
   "source": [
    "df.dtypes"
   ]
  },
  {
   "cell_type": "code",
   "execution_count": 52,
   "metadata": {},
   "outputs": [
    {
     "data": {
      "text/plain": [
       "Name                 0.000000\n",
       "Gender               2.793544\n",
       "Marital_Status      55.166106\n",
       "Height              92.968393\n",
       "Weight              93.513114\n",
       "Eye_Color           54.711500\n",
       "Hair_Color          25.973100\n",
       "Living_Status        0.024210\n",
       "Reality              0.217888\n",
       "Birthplace          88.133154\n",
       "Identity            14.707465\n",
       "Citizenship         28.574311\n",
       "First_Appearance     8.264963\n",
       "Appearances          6.359112\n",
       "dtype: float64"
      ]
     },
     "execution_count": 52,
     "metadata": {},
     "output_type": "execute_result"
    }
   ],
   "source": [
    "df.isna().sum() / len(df) * 100"
   ]
  },
  {
   "cell_type": "code",
   "execution_count": 53,
   "metadata": {},
   "outputs": [
    {
     "data": {
      "text/plain": [
       "array(['Male', 'Agender', 'Female', nan, 'Non-Binary', 'Genderfluid',\n",
       "       'Male/Female', 'Gestalt', 'female', 'Single', 'Transgender'],\n",
       "      dtype=object)"
      ]
     },
     "execution_count": 53,
     "metadata": {},
     "output_type": "execute_result"
    }
   ],
   "source": [
    "df['Gender'].unique()"
   ]
  },
  {
   "cell_type": "code",
   "execution_count": 54,
   "metadata": {},
   "outputs": [
    {
     "data": {
      "text/plain": [
       "array(['Male', 'Agender', 'Female', nan, 'Non-Binary', 'Genderfluid',\n",
       "       'Gestalt', 'Transgender'], dtype=object)"
      ]
     },
     "execution_count": 54,
     "metadata": {},
     "output_type": "execute_result"
    }
   ],
   "source": [
    "df['Gender'].replace({'female' : 'Female', 'Male/Female' : np.nan, 'Single' : np.nan}, inplace = True)\n",
    "df['Gender'].unique()"
   ]
  },
  {
   "cell_type": "code",
   "execution_count": 55,
   "metadata": {},
   "outputs": [
    {
     "data": {
      "text/plain": [
       "array(['Single', nan, 'Married', 'Widowed', 'Separated', 'Engaged',\n",
       "       'Divorced', 'Estranged', 'Windowed', 'single', 'Unknown.', 'Blond',\n",
       "       'Unnamed', 'Divorces', 'Unknown',\n",
       "       'Married\\x7f\\'\"`UNIQ--ref-00000009-QINU`\"\\'\\x7f'], dtype=object)"
      ]
     },
     "execution_count": 55,
     "metadata": {},
     "output_type": "execute_result"
    }
   ],
   "source": [
    "df['Marital_Status'].unique()"
   ]
  },
  {
   "cell_type": "code",
   "execution_count": 56,
   "metadata": {},
   "outputs": [
    {
     "data": {
      "text/plain": [
       "array(['Single', nan, 'Married', 'Widowed', 'Separated', 'Engaged',\n",
       "       'Divorced', 'Estranged'], dtype=object)"
      ]
     },
     "execution_count": 56,
     "metadata": {},
     "output_type": "execute_result"
    }
   ],
   "source": [
    "df['Marital_Status'].replace({'Windowed' : 'Widowed', 'single' : 'Single', 'Unknown.' : np.nan,\n",
    "                            'Blond' : np.nan, 'Unnamed' : np.nan, \n",
    "                            'Divorces' : 'Divorced', 'Unknown' : np.nan, \n",
    "                            'Married\\x7f\\'\"`UNIQ--ref-00000009-QINU`\"\\'\\x7f' : 'Married'},\n",
    "                    inplace = True)\n",
    "df['Marital_Status'].unique()"
   ]
  },
  {
   "cell_type": "code",
   "execution_count": 57,
   "metadata": {},
   "outputs": [
    {
     "data": {
      "text/plain": [
       "array([nan, 'Blue', 'Red', 'Yellow', 'Brown', 'No Eyes At All', 'Grey',\n",
       "       'White', 'Black', 'Hazel', 'Green', 'Gold', 'Purple', 'Pink',\n",
       "       'Orange', 'Variable', 'Dark', 'Amber', 'Fair', 'Violet', 'Silver',\n",
       "       'black', 'no visible pupils', 'Magenta', 'Compound', 'No Visible',\n",
       "       'Brown-Grey', 'blue', 'yellow', 'brown',\n",
       "       'no visible pupil or iris', 'red', 'No Iris', 'white',\n",
       "       'No visible Irises or Pupils', 'hazel'], dtype=object)"
      ]
     },
     "execution_count": 57,
     "metadata": {},
     "output_type": "execute_result"
    }
   ],
   "source": [
    "df['Eye_Color'].unique()"
   ]
  },
  {
   "cell_type": "code",
   "execution_count": 58,
   "metadata": {},
   "outputs": [
    {
     "data": {
      "text/plain": [
       "array(['Nan', 'Blue', 'Red', 'Yellow', 'Brown', 'No eyes at all', 'Grey',\n",
       "       'White', 'Black', 'Hazel', 'Green', 'Gold', 'Purple', 'Pink',\n",
       "       'Orange', 'Variable', 'Dark', 'Amber', 'Fair', 'Violet', 'Silver',\n",
       "       'No visible pupils', 'Magenta', 'Compound', 'No visible',\n",
       "       'Brown-grey', 'No visible pupil or iris', 'No iris',\n",
       "       'No visible irises or pupils'], dtype=object)"
      ]
     },
     "execution_count": 58,
     "metadata": {},
     "output_type": "execute_result"
    }
   ],
   "source": [
    "df['Eye_Color'] = df['Eye_Color'].apply(lambda x : str(x).capitalize())\n",
    "df['Eye_Color'].unique()"
   ]
  },
  {
   "cell_type": "code",
   "execution_count": 59,
   "metadata": {},
   "outputs": [
    {
     "data": {
      "text/plain": [
       "array([nan, 'Blue', 'Red', 'Yellow', 'Brown', 'No eyes at all', 'Grey',\n",
       "       'White', 'Black', 'Hazel', 'Green', 'Gold', 'Purple', 'Pink',\n",
       "       'Orange', 'Variable', 'Amber', 'Violet', 'Silver',\n",
       "       'No visible iris and/or pupils', 'Magenta', 'Compound',\n",
       "       'Brown-grey'], dtype=object)"
      ]
     },
     "execution_count": 59,
     "metadata": {},
     "output_type": "execute_result"
    }
   ],
   "source": [
    "df['Eye_Color'].replace({'Nan' : np.nan, 'Fair' : np.nan, 'Dark' : np.nan, \n",
    "                        'No visible pupils' : 'No visible iris and/or pupils',\n",
    "                        'No visible' : 'No visible iris and/or pupils',\n",
    "                        'No visible pupil or iris' : 'No visible iris and/or pupils',\n",
    "                        'No iris' : 'No visible iris and/or pupils',\n",
    "                        'No visible irises or pupils' : 'No visible iris and/or pupils'},\n",
    "                        inplace = True)\n",
    "df['Eye_Color'].unique()"
   ]
  },
  {
   "cell_type": "code",
   "execution_count": 60,
   "metadata": {},
   "outputs": [
    {
     "data": {
      "text/plain": [
       "array([nan, 'Black', 'No Hair At All', 'Blond', 'Bald', 'Grey', 'Brown',\n",
       "       'White', '[1]', 'Red', 'Pink', 'Green', 'Auburn', 'Gold', 'Purple',\n",
       "       'Blue', 'Strawberry Blond', 'Silver', 'Orange', 'Dyed', 'Variable',\n",
       "       'Yellow', 'Shaved', 'Light Brown', 'green', 'Magenta', '[3]',\n",
       "       'red', 'Platinum Blond', '[2]', 'bald', 'Hepzibah', 'black',\n",
       "       'grey', 'brown', '[22]', '[37]', '[4]', '[11]', 'white', 'blue',\n",
       "       '[9]', 'green hair', 'Orange-brown', 'dyed', 'pink', 'shaved'],\n",
       "      dtype=object)"
      ]
     },
     "execution_count": 60,
     "metadata": {},
     "output_type": "execute_result"
    }
   ],
   "source": [
    "df['Hair_Color'].unique()"
   ]
  },
  {
   "cell_type": "code",
   "execution_count": 61,
   "metadata": {},
   "outputs": [
    {
     "data": {
      "text/plain": [
       "array(['Nan', 'Black', 'No hair at all', 'Blond', 'Bald', 'Grey', 'Brown',\n",
       "       'White', '[1]', 'Red', 'Pink', 'Green', 'Auburn', 'Gold', 'Purple',\n",
       "       'Blue', 'Strawberry blond', 'Silver', 'Orange', 'Dyed', 'Variable',\n",
       "       'Yellow', 'Shaved', 'Light brown', 'Magenta', '[3]',\n",
       "       'Platinum blond', '[2]', 'Hepzibah', '[22]', '[37]', '[4]', '[11]',\n",
       "       '[9]', 'Green hair', 'Orange-brown'], dtype=object)"
      ]
     },
     "execution_count": 61,
     "metadata": {},
     "output_type": "execute_result"
    }
   ],
   "source": [
    "df['Hair_Color'] = df['Hair_Color'].apply(lambda x : str(x).capitalize())\n",
    "df['Hair_Color'].unique()"
   ]
  },
  {
   "cell_type": "code",
   "execution_count": 62,
   "metadata": {},
   "outputs": [
    {
     "data": {
      "text/plain": [
       "array([nan, 'Black', 'No hair at all', 'Blond', 'Bald', 'Grey', 'Brown',\n",
       "       'White', 'Red', 'Pink', 'Green', 'Auburn', 'Gold', 'Purple',\n",
       "       'Blue', 'Strawberry blond', 'Silver', 'Orange', 'Dyed', 'Variable',\n",
       "       'Yellow', 'Shaved', 'Light brown', 'Magenta', 'Platinum blond',\n",
       "       'Orange-brown'], dtype=object)"
      ]
     },
     "execution_count": 62,
     "metadata": {},
     "output_type": "execute_result"
    }
   ],
   "source": [
    "df['Hair_Color'].replace({'Nan' : np.nan, '[1]' : np.nan, '[3]' : np.nan, '[2]' : np.nan, 'Hepzibah' : np.nan, \n",
    "                        '[22]' : np.nan, '[37]' : np.nan, '[4]' : np.nan, '[11]' : np.nan, '[9]' : np.nan,\n",
    "                        'Green hair' : 'Green'},\n",
    "                        inplace = True)\n",
    "df['Hair_Color'].unique()"
   ]
  },
  {
   "cell_type": "code",
   "execution_count": 63,
   "metadata": {},
   "outputs": [
    {
     "data": {
      "text/plain": [
       "array(['Alive', 'Deceased', nan], dtype=object)"
      ]
     },
     "execution_count": 63,
     "metadata": {},
     "output_type": "execute_result"
    }
   ],
   "source": [
    "df['Living_Status'].unique()"
   ]
  },
  {
   "cell_type": "code",
   "execution_count": 64,
   "metadata": {},
   "outputs": [
    {
     "data": {
      "text/plain": [
       "array(['Earth-616', 'Earth-12041', 'Earth-12772', ..., 'Earth-89947',\n",
       "       'Earth-14114', 'Earth-97449'], dtype=object)"
      ]
     },
     "execution_count": 64,
     "metadata": {},
     "output_type": "execute_result"
    }
   ],
   "source": [
    "df['Reality'].unique()"
   ]
  },
  {
   "cell_type": "code",
   "execution_count": 65,
   "metadata": {},
   "outputs": [
    {
     "data": {
      "text/plain": [
       "['Multiverse',\n",
       " 'Ideaverse',\n",
       " 'Unknown Reality',\n",
       " 'Otherworld',\n",
       " nan,\n",
       " 'Land of Cancelled Heroes',\n",
       " 'Mojoverse',\n",
       " 'Omniverse',\n",
       " 'Styrakos',\n",
       " 'First Cosmos',\n",
       " 'Brilliant City',\n",
       " 'Utopian Parallel',\n",
       " 'Elsewhen']"
      ]
     },
     "execution_count": 65,
     "metadata": {},
     "output_type": "execute_result"
    }
   ],
   "source": [
    "[reality for reality in list(df['Reality'].unique()) if str(reality)[:6] != 'Earth-']"
   ]
  },
  {
   "cell_type": "code",
   "execution_count": 66,
   "metadata": {},
   "outputs": [
    {
     "data": {
      "text/plain": [
       "['Multiverse',\n",
       " 'Ideaverse',\n",
       " nan,\n",
       " 'Otherworld',\n",
       " 'Land of Cancelled Heroes',\n",
       " 'Mojoverse',\n",
       " 'Omniverse',\n",
       " 'Styrakos',\n",
       " 'First Cosmos',\n",
       " 'Brilliant City',\n",
       " 'Utopian Parallel',\n",
       " 'Elsewhen']"
      ]
     },
     "execution_count": 66,
     "metadata": {},
     "output_type": "execute_result"
    }
   ],
   "source": [
    "df['Reality'].replace({'Unknown Reality' : np.nan}, inplace = True)\n",
    "[reality for reality in list(df['Reality'].unique()) if str(reality)[:6] != 'Earth-']"
   ]
  },
  {
   "cell_type": "code",
   "execution_count": 67,
   "metadata": {},
   "outputs": [
    {
     "data": {
      "text/plain": [
       "array([nan, 'Sentinel Headquarters', 'Legion', ..., 'Ghudaza', 'Sumeria',\n",
       "       'Meroê'], dtype=object)"
      ]
     },
     "execution_count": 67,
     "metadata": {},
     "output_type": "execute_result"
    }
   ],
   "source": [
    "df['Birthplace'].unique()"
   ]
  },
  {
   "cell_type": "code",
   "execution_count": 68,
   "metadata": {},
   "outputs": [
    {
     "data": {
      "text/plain": [
       "1246"
      ]
     },
     "execution_count": 68,
     "metadata": {},
     "output_type": "execute_result"
    }
   ],
   "source": [
    "df['Birthplace'].nunique()"
   ]
  },
  {
   "cell_type": "code",
   "execution_count": 69,
   "metadata": {},
   "outputs": [
    {
     "data": {
      "text/plain": [
       "array(['Secret', nan, 'Public', 'No Dual', 'Known to Authorities',\n",
       "       'No  Dual', 'Human', '[1]'], dtype=object)"
      ]
     },
     "execution_count": 69,
     "metadata": {},
     "output_type": "execute_result"
    }
   ],
   "source": [
    "df['Identity'].unique()"
   ]
  },
  {
   "cell_type": "code",
   "execution_count": 70,
   "metadata": {},
   "outputs": [
    {
     "data": {
      "text/plain": [
       "array(['Secret', nan, 'Public', 'No Dual Identity',\n",
       "       'Known to Authorities'], dtype=object)"
      ]
     },
     "execution_count": 70,
     "metadata": {},
     "output_type": "execute_result"
    }
   ],
   "source": [
    "df['Identity'].replace({'No Dual' : 'No Dual Identity', 'No  Dual' : 'No Dual Identity', 'Human' : np.nan, '[1]' : np.nan},\n",
    "                        inplace = True)\n",
    "df['Identity'].unique()"
   ]
  },
  {
   "cell_type": "code",
   "execution_count": 71,
   "metadata": {},
   "outputs": [
    {
     "data": {
      "text/plain": [
       "array(['American', nan, 'Chronicoms', 'Turanian', 'Afghan',\n",
       "       'Saudi Arabian', 'Belgian', 'British', 'Dutch', 'Polish', 'German',\n",
       "       'Canadian', 'Canada', 'Latverian', 'Atlantean', 'Scottish',\n",
       "       'English', 'Krakoan', 'South African', 'Wakandan', 'Egyptian',\n",
       "       'Azerbaijani', 'Zamoran', 'Aqiria', 'Saudi Arabia', 'Indian',\n",
       "       'Aakon', 'Vietnamese', 'Austrian', 'Japanese', 'Xandarian',\n",
       "       'New Canaanite', 'Ethiopia', 'Tanzanian', 'African', 'Germany',\n",
       "       'Alfheim', 'Kymellian', 'Spanish', 'Undying', 'Kree Empire',\n",
       "       'Mycenaean', 'Greek', 'Symbiotes', 'Attilan', 'Australian',\n",
       "       'French', 'Asgardian', 'Vanaheim', 'Jotunheim', 'Irish',\n",
       "       \"Shi'ar Empire\", 'Nemedian', 'Skrull Empire', 'Italian', 'Polaria',\n",
       "       'Japan', 'Wakanda', 'Shemite', 'Stygian', 'United States',\n",
       "       'Southern Isles', 'Argive', 'Olympia', 'Kenya', 'Norway',\n",
       "       'Madripoor', 'Deviant Lemuria', 'Mayan', 'Xibalba', 'Halwan',\n",
       "       'Rejects', 'Breakworldians', 'The Hive', 'Heven', 'Russian',\n",
       "       'Korean', 'Soviet', 'USA', 'Chinese', 'Arcturan', 'Santo Marco',\n",
       "       'Colombian', 'Mexican', 'Olympian', 'United Kingdom', 'Valusia',\n",
       "       'Genoshan', 'Svartalfheim', 'Transylvanian', 'Nidavellir', 'Cuban',\n",
       "       'Trans-Sabalian', 'Algerian', 'Turkey', 'Iraqi', \"Akah Ma'at\",\n",
       "       'San Diabloan', 'Symkaria', 'Ukrainian', 'Krozzar', 'Arakkii',\n",
       "       'South Korean', 'South Korea', 'Milesian', 'Nor-Am Pact region',\n",
       "       'Hermopolis', 'Sri Lankan', 'Nova Roma', 'Nova Roman', 'X-Topian',\n",
       "       'Brazilian', 'Nemedia', 'Aquilonia', '[2]', 'Asgard', 'Welsh',\n",
       "       'Hungarian', 'America', 'Zingara', 'Tibetan', 'Dilmun',\n",
       "       'Galadorian', 'Transian', 'China', 'Turan', 'Koth', 'Atlantis',\n",
       "       'Mycenae', 'Savage Land', 'Savage Lander', 'Apegardian',\n",
       "       'Heliopolis', 'Hyrkanian', 'Wilamean Empire', 'Swiss',\n",
       "       'Alpha Primitive', '[1]', 'Sokovian', 'Puerto Rican', 'Norwegian',\n",
       "       'Heaven', 'Swedish', 'Arthros', 'United States of America',\n",
       "       'Arthrosian', 'Kothian', 'Symkarian', 'Switzerland', 'Filipino',\n",
       "       'Hellrock', \"K'un-Lun\", 'Sakaaran', 'Sakaaran Imperials', 'Russia',\n",
       "       'Armenian', 'New Zealander', 'New Asgard', 'Hell', 'Kaluwalhatian',\n",
       "       'Portuguese', 'Delvadian', 'Celestial', 'Celestials',\n",
       "       'Coconut Grove', 'Ashandriar', 'Olympus', 'Kree',\n",
       "       'Rigellian Empire', 'Hellbent', 'France', 'Syrian', 'Troy',\n",
       "       'Watcher', 'Watchers', 'Chernaya', 'Troyjan', 'Titanos',\n",
       "       'Atlanteans', 'Argos (Hyboria)', 'Asgalunim',\n",
       "       'Pre-Cataclysmic Lemuria', 'Zangabali', \"Shi'ar\", 'Mu', 'Stygia',\n",
       "       'Domain of the Trolls (Asgard)', 'Assyrian', 'Otherworld',\n",
       "       'Amerikan', 'Meroë', 'England', 'Zamora', 'Wraith Inhuman', 'Thai',\n",
       "       'Rhunian', 'Ukranian', 'Sark', 'Titan', 'Roman', 'New Attilan',\n",
       "       'Honduran', 'Apache', 'Dartayus', 'Lemurian', '[4]', \"K'un-Lunan\",\n",
       "       'Sakaar', 'Acheronian', 'Kosalan', 'Klangian', 'Klklk', 'Inhuman',\n",
       "       'Pelishtia', 'Halwanian', 'Warpsmiths', 'Pakistan', 'Makluan',\n",
       "       'Stonian', 'Android', 'Romanian', 'Mongolian', 'Lumina',\n",
       "       'Zingaran', 'Korbinites', 'Whynnm', 'Korbin', 'Otherworlder',\n",
       "       'Taa-an', 'Vorms', 'Subterranea', 'Aerie', 'Vendhyan', \"Zn'rx\",\n",
       "       'Brythunian', 'Skrull', 'Libyan', 'Panther Tribe', 'Blackfeet',\n",
       "       'Cheyenne', 'Quon', 'Halfworlders', 'Brood', 'Khitai', 'Brazil',\n",
       "       'Corinthia', 'Brethren', 'Gwynedd', 'Pict', 'Aesir', 'Lyonesse',\n",
       "       'Lyrnessus', 'Shawmis Tribe', 'Egypt', 'Badoon Empire', 'Latveria',\n",
       "       'Asgardians', 'Dystopian', '[3]', 'South Africa', 'U.S.A.',\n",
       "       'Gunderland', 'Thebes', 'Pre-Cataclysmic Atlantis', 'Asgalun',\n",
       "       'Liechtensteiner', 'Demon', 'Transylvania', 'Costa Verdean',\n",
       "       'Argentina', 'Costa Verde', 'Catsgard', 'San Monique',\n",
       "       'Pakistanis', 'Martians', 'Frank', 'Levian', 'Kakaranthara',\n",
       "       'Poland', 'Hanan Pacha', 'Jovian', 'Danish', 'Madripoorian',\n",
       "       'Antillia', 'Khitan', 'Republic of the Congo', 'Tryks', 'Nowhere',\n",
       "       'Acheronian (Earth-1610)', 'Dark Dimension', 'Arcadian',\n",
       "       'Algerians', 'Bahamian', 'Froma', 'Contraxian', \"K'aitian\",\n",
       "       'Spartan', 'Aquilonian', 'Ulster', 'Cimmerian', 'Sin-Congese',\n",
       "       'Vegan', 'Horusian', 'UK', 'Human', 'Xandar', 'Endless Resurgence',\n",
       "       'Krogarran', 'Singaporean', 'Bosnia and Herzegovina', 'Jamaican',\n",
       "       'Atillan', 'Israeli', 'Belizean', 'Haitian', 'Israel',\n",
       "       'Nightmare World', 'Utolan', 'Scotland', 'Centaurian', 'Biphasian',\n",
       "       'Majesdanian', 'Lemurians', 'Sentinels', 'Okkaran', 'Azanian',\n",
       "       'Pre-Cataclysmic Atlantean', 'Leinster', 'Serbian', 'North Korea',\n",
       "       'Ligurean', 'Manifestations', 'Not-too-bright dimension',\n",
       "       'Faltine Dimension', 'Faltine', 'Canadians', 'Beginagains',\n",
       "       'Heliopolitan', 'Duckworldian', 'Tsargol', 'Dream Dimension',\n",
       "       'Liveword', 'Chilean', 'Spain', 'Australia', 'Jotun', 'Judea',\n",
       "       'Czechoslovakian', 'Melnibonéan', 'Zenn-Lavian', 'Phalanx',\n",
       "       'Lichtenbader', 'Valusian', 'Genosha', 'Sweden', '[5]',\n",
       "       'Titanian Eternals', 'Mexicans', 'Belgium', 'Peruvian',\n",
       "       'Argentinian', 'Vorozheika', 'Icelandic', 'House of M',\n",
       "       'Avalon (Otherworld)', 'Hel', 'Gardeners', 'Banari',\n",
       "       'Age of Dragons Lemuria', 'Thracian', 'Arfgardian', 'India',\n",
       "       'Nordheimr Vanir', 'Nastrond', \"Kt'kn\", 'Autocron', 'Ireland',\n",
       "       'Turkish', 'Muspelheim', 'Tribe of the Moon', 'Kakarantharaian',\n",
       "       'Ecuadorian', 'Battleworld', 'Vanir', 'Breakworld', 'Gunderman',\n",
       "       'Niffleheim', 'Brutheim', 'Zen-Whoberi', 'Zen-Whoberis',\n",
       "       'Zehoberi', 'Trans-Sabal', 'Qrii', 'Bosnian', 'Vietnam',\n",
       "       'Tanzania', 'Trojan', 'Manidoog', 'Kronan', 'Moldavia',\n",
       "       'Dakkamite', 'Vanirman', 'Spartax', 'Nutopian', 'Flora colossi',\n",
       "       'Land of Mad Silence', 'Ta-Lo', 'Pacion Rex', 'Axi-Tun',\n",
       "       'Orollanian', 'Planet X', 'Teeny-Weeny People', 'Border Kingdom',\n",
       "       'Magzi', 'Italy', 'Britain', 'Zyndarian', 'Moroccan', 'Moroccans',\n",
       "       'Subterraneans', 'South Africans', 'Illium', 'Tribbitite',\n",
       "       'New Zealand', 'Skrulls', 'Olympians', 'Armechadon', 'Sakaarans',\n",
       "       'Martian', 'Cotati', 'Nigerian', 'Crete', 'Uganda', 'Descendant',\n",
       "       'Khauran', 'Dryopian', 'North Korean', 'Kenyan', 'Maya', 'Elan',\n",
       "       'Poppupians', 'Zambian', 'Kush', 'Manifestation', 'Slorenian',\n",
       "       'Achaean', 'Darbian', 'Spartax Empire', 'Hyrkania', 'Palestinian',\n",
       "       'Chosen', 'Amerika', 'Xibalban', 'Latverion', 'Algeria',\n",
       "       'Higher Avalon', 'Galadorians', 'Finnish', 'Thurdan', 'Synthezoid',\n",
       "       'Galilean', 'Blackfoot', 'Azanians', 'Jamaica', 'Mbangawi',\n",
       "       'Soviet Union', 'Georgian', 'Pictish', 'Mbangawian',\n",
       "       'Brooklynopolis', 'Kushite', 'Haiti', 'Chitauri', 'Subterranean',\n",
       "       \"Hauk'ka\", 'Aqirian', 'Nornheim', 'Tsargolian', 'Alberian',\n",
       "       'Pakistani', 'Krook', 'Finland', \"N'Garai\", 'Tebbel', 'Dagonia',\n",
       "       'Herms', 'Argossean (Hyborian)',\n",
       "       'Pure Blissful Kingdom of Lofty Heavenly Lights and Ornaments',\n",
       "       'Elder Days Lemurian', 'Starmen', 'Elder Gods', 'Giizhigong',\n",
       "       'Lem', 'Libya', 'Somali', 'Bal-Sagoth', 'Republic of Florence',\n",
       "       'Munster', 'Halfworlder', 'Sparta', 'Eternals of Uranus',\n",
       "       'Iranian', 'United STates', 'Iceland', 'Hyperborean', 'Quists',\n",
       "       'Delvadia', 'Euboea', 'Lycian', 'Iran', 'Technarch', 'Greece',\n",
       "       'Austria', 'Philippines', 'Lithuanian', 'Avalon', 'Symbiote',\n",
       "       'Pluvians', 'United Doomstates', 'Draburg', 'Zembabwei',\n",
       "       'Progenitor', 'Connacht', 'Darkurian', 'Aethiopian', 'Afghani',\n",
       "       'Landlak', 'Venezuelan', 'Cambodian', 'Yomi', 'Samoan', 'Astran',\n",
       "       'Gehenna', 'Ethiopian', 'Troxx', 'Phthiotisian', 'Pangorian',\n",
       "       'Mars', 'Siris', 'Celestial Hawaiki',\n",
       "       'Other Earth,  31st & 40th Centuries (Earth-6311)', 'Bar Sinister',\n",
       "       \"Ul'lula'n\", 'Babylon', 'Earth-6311', 'Limbo', 'Other Earth',\n",
       "       'Comanches', 'Enclave', 'Belarussian', 'Africa', 'Zenn-La',\n",
       "       'Zenn-Lavians', 'Niganda', 'Taivas', 'Hindi', 'Aesir (Nordheimr)',\n",
       "       'Morocco', 'Hungary', 'Thurdis', 'Earth colony on Mercury',\n",
       "       'Mercurian', 'Lycia', 'Anasazi', 'New Canaan', 'Myrmidon',\n",
       "       'Vorozheikan', 'United States of California', \"Ru'Tai\", 'Kosmos',\n",
       "       'Argos (Planet)', 'Dimension Ecch', \"Flb'Dbi\", 'Plasmagenian',\n",
       "       'Utolanian', 'Robots', 'Attalus', 'Traanian',\n",
       "       'Other-Earth,  40th Century,  Kingdom of Carelius', 'Shem',\n",
       "       'Levians', 'Cuba', 'Pre-Cataclysmic Lemurian', 'Netherlands',\n",
       "       'Sloggo-Prime', 'Yugoslavian', 'Achian', \"K'un-Lunans\",\n",
       "       'Iranistani', 'Theban', 'Babylonian', 'Taiwanese', \"Chr'yllite\",\n",
       "       'Tierra Verdean', 'Jordan', 'Persian', 'Mindscape',\n",
       "       'supposedly Asgardian', 'Vanir (Nordheimr)', 'Patanga', 'Drenx',\n",
       "       'Hong Kong', 'Ile Pabo', 'Mutant', 'SHRA', 'Bangladeshi',\n",
       "       'Elder of the Universe', 'Strontian', 'Aeginan', 'Tektons',\n",
       "       'Sominus', 'Valkarth', 'Great Britain', 'Iraq', 'Lithodia Rexian',\n",
       "       'Hyborian Age Lemurian', 'Arfgard', 'Epsiloni', 'Roman Empire',\n",
       "       'Alpha Primitives', 'Somalian', 'People of the Black Sea',\n",
       "       'Landlaks', 'San Diablo', 'Americans', 'Barbados', 'Ergenekon',\n",
       "       'Pre-Cataclysm Atlantean', 'Ophir', 'Halfworld',\n",
       "       'Symbiote Imperium', 'Transia', 'US', 'Reject', \"Na'at\",\n",
       "       'Vanaheim (Nordheim)', 'Fomalhauti', 'Luphomoid', 'Ukraine',\n",
       "       'Xixix', 'Elder Hell', 'Yeti', 'Xartan', 'Narobian',\n",
       "       \"Juggernaut's planet\", 'Thuria', 'Battlerealm', 'Ugandan',\n",
       "       'Zamballah', 'Luphomoids', 'Nigandan', 'Romania', 'Croatia',\n",
       "       'Croatian', 'Dynamo City', 'Vampire Nation', 'Technarchy',\n",
       "       'Angels', 'Wallachian', 'Latverians', 'Peru', 'Hyperborea',\n",
       "       'Space Phantoms', 'Arthrosians', 'Sri Lanka', 'Chile', 'Malaysian',\n",
       "       'Akkharia', 'Zamboula', \"Zn'rx Empire\", 'Solons', 'Venezuela',\n",
       "       'Yamatai', 'Astral Plane', 'Zaar', 'Carnelian', 'Burundan',\n",
       "       'Pawnee', 'Xeronian', 'Spartoi', 'Xantar', 'Tarakus', 'Laxidazian',\n",
       "       'Otherplace/Limbo', ' Kathartan', 'Tír na nÓg', 'Ashomia',\n",
       "       'Savage land', 'Mictlan', 'Cherron', 'Sirusite', 'Felisian',\n",
       "       'Counter-Earth', 'Flock', 'Rhunians', 'A-Chiltarian', 'Scot',\n",
       "       'Mongolia', 'Judean', 'Skarnheim', 'Attania', 'Zamboulan', '[8]',\n",
       "       'Venus', 'Luareian', 'Korea', 'Makluans', 'Deviant Mutate',\n",
       "       'Gigantian', 'Mexico', 'Aqirians', 'Godwheel',\n",
       "       'Kingdom of the Trolls', 'Olympus (Realm)', 'Vulcan', 'Sumerian',\n",
       "       'Argos (Greece)', 'Zothique', 'Qatari', 'Vrakanin', 'Nalrah',\n",
       "       'Hodomurian', 'Chize', 'Monaco', 'Terminal', 'Roclite',\n",
       "       'Quasi-Humans', 'Barachan', 'Tibet', 'Goth', 'Acroyears',\n",
       "       'Ghudazan', 'Smokeworlder'], dtype=object)"
      ]
     },
     "execution_count": 71,
     "metadata": {},
     "output_type": "execute_result"
    }
   ],
   "source": [
    "df['Citizenship'].unique()"
   ]
  },
  {
   "cell_type": "code",
   "execution_count": 72,
   "metadata": {},
   "outputs": [
    {
     "data": {
      "text/plain": [
       "732"
      ]
     },
     "execution_count": 72,
     "metadata": {},
     "output_type": "execute_result"
    }
   ],
   "source": [
    "df['Citizenship'].nunique()"
   ]
  },
  {
   "cell_type": "code",
   "execution_count": 73,
   "metadata": {},
   "outputs": [
    {
     "data": {
      "text/plain": [
       "732"
      ]
     },
     "execution_count": 73,
     "metadata": {},
     "output_type": "execute_result"
    }
   ],
   "source": [
    "df['Citizenship'] = df['Citizenship'].apply(lambda x : str(x).strip())\n",
    "df['Citizenship'].replace({'nan' : np.nan}, inplace = True)\n",
    "df['Citizenship'].nunique()"
   ]
  },
  {
   "cell_type": "code",
   "execution_count": 74,
   "metadata": {},
   "outputs": [
    {
     "data": {
      "text/plain": [
       "array(['July, 1991', 'July, 1969', 'June, 2010', ..., 'Damballah',\n",
       "       'July 22, 2018', 'April 15, 2017'], dtype=object)"
      ]
     },
     "execution_count": 74,
     "metadata": {},
     "output_type": "execute_result"
    }
   ],
   "source": [
    "df['First_Appearance'].unique()"
   ]
  },
  {
   "cell_type": "code",
   "execution_count": 75,
   "metadata": {},
   "outputs": [
    {
     "data": {
      "text/plain": [
       "2167"
      ]
     },
     "execution_count": 75,
     "metadata": {},
     "output_type": "execute_result"
    }
   ],
   "source": [
    "df['First_Appearance'].nunique()"
   ]
  },
  {
   "cell_type": "code",
   "execution_count": 76,
   "metadata": {},
   "outputs": [
    {
     "data": {
      "text/plain": [
       "2167"
      ]
     },
     "execution_count": 76,
     "metadata": {},
     "output_type": "execute_result"
    }
   ],
   "source": [
    "df['First_Appearance'] = df['First_Appearance'].apply(lambda x : str(x).strip())\n",
    "df['First_Appearance'].replace({'nan' : np.nan}, inplace = True)\n",
    "df['First_Appearance'].nunique()"
   ]
  },
  {
   "cell_type": "code",
   "execution_count": 77,
   "metadata": {},
   "outputs": [
    {
     "data": {
      "text/plain": [
       "[nan,\n",
       " 'The Huntsman',\n",
       " 'S2E04',\n",
       " 'S1E08',\n",
       " 'Yazatas',\n",
       " 'S1E13',\n",
       " 'S2E01',\n",
       " '2000',\n",
       " 'Black Widow: Forever Red',\n",
       " 'Amalgam Comics (Trading Cards)',\n",
       " '2001',\n",
       " 'Ronin',\n",
       " 'Monolith',\n",
       " 'Khonshu',\n",
       " 'Unknown',\n",
       " 'S1E12',\n",
       " '1977',\n",
       " '1984',\n",
       " 'S1E05',\n",
       " 'Shuma-Gorath',\n",
       " 'S1E03',\n",
       " '1980',\n",
       " 'Iron Man',\n",
       " 'The Bent Bullet Report',\n",
       " 'S2E03',\n",
       " 'Army of Darkness: Ashes 2 Ashes #1',\n",
       " 'Demogorge',\n",
       " 'Inhumans',\n",
       " 'S1E04',\n",
       " 'S1E21',\n",
       " 'Totem',\n",
       " '2010',\n",
       " '1967',\n",
       " 'S2E09',\n",
       " 'Spider-Man',\n",
       " '1993',\n",
       " 'Age of X Communiques: Berserker, Hellion, Nightmare',\n",
       " 'S2E02',\n",
       " 'S1E19',\n",
       " 'Wolverine: Weapon X Vol 1 12',\n",
       " '2009',\n",
       " '2008',\n",
       " '2015',\n",
       " 'S2E15',\n",
       " 'Odin',\n",
       " 'S2E16',\n",
       " '2014',\n",
       " 'S3E12',\n",
       " 'S1E25',\n",
       " 'Breaker-Apart',\n",
       " '2003',\n",
       " 'S1E02',\n",
       " 'Loki',\n",
       " 'S2E14',\n",
       " 'Poisons',\n",
       " '1988',\n",
       " 'S1E11',\n",
       " '#5',\n",
       " 'S2E06',\n",
       " 'Liberty Scouts Comics #2',\n",
       " '2005',\n",
       " 'Apollo',\n",
       " 'Cormac of Connacht',\n",
       " 'Spider-Man: Arachnophobia',\n",
       " '2002',\n",
       " 'S2E08',\n",
       " 'S1E06',\n",
       " 'S2E18',\n",
       " 'Horus',\n",
       " '2007',\n",
       " 'Age of X Communiques: Frenzy, Magma, Cypher',\n",
       " '(Vol. 4) #19',\n",
       " 'S3E02',\n",
       " 'Wolverine and the X-Men Season 1 3',\n",
       " 'S3E01',\n",
       " 'S1E23',\n",
       " '2012',\n",
       " '2004',\n",
       " '#244',\n",
       " '1994',\n",
       " 'Age of X Communiques: Basilisk, Legacy',\n",
       " '1982',\n",
       " '1978',\n",
       " 'Punisher',\n",
       " 'Xian',\n",
       " 'Age of X Communiques: Cannonball, Gambit, Revenant',\n",
       " '1991',\n",
       " '[1]',\n",
       " 'S1E01',\n",
       " '(Vol. 4) #4',\n",
       " 'Historical Log 1A: March of Purity',\n",
       " 'Avengers: West Coast Vol 1 62',\n",
       " '1979',\n",
       " '1987',\n",
       " 'Council of Godheads',\n",
       " 'Inanna',\n",
       " 'S2E11',\n",
       " '#6',\n",
       " 'Cortex',\n",
       " 'Iron Age Alpha Vol 1 1',\n",
       " 'S1E10',\n",
       " '#3',\n",
       " 'Kid Colt Outlaw',\n",
       " '2018',\n",
       " 'Amazing Man Comics #5',\n",
       " '(Vol. 2) #50',\n",
       " 'Avengers: West Coast Vol 1 98',\n",
       " 'S2E07',\n",
       " '2013',\n",
       " 'Widget',\n",
       " '1989',\n",
       " 'Conan Comics Chronology',\n",
       " 'S1E07',\n",
       " 'Yu Huang',\n",
       " 'S3E07',\n",
       " 'el Tigre',\n",
       " 'Tomes of Eldritch Knowledge on the Appendix',\n",
       " 'Bio-Sentinel',\n",
       " 'Age of X Communiques: Magneto',\n",
       " 'Lucifer',\n",
       " 'Match',\n",
       " 'Hermes',\n",
       " '2006',\n",
       " '#4',\n",
       " 'Aboriginal Gods',\n",
       " '1981',\n",
       " \"Marvel's Spider-Man\",\n",
       " 'Carnage',\n",
       " 'Jay and Silent Bob Strike Back',\n",
       " \"Marvel's Spider-Man: Miles Morales - Wings of Fury\",\n",
       " 'Nergal',\n",
       " 'Trauma',\n",
       " 'Attilan',\n",
       " '#212',\n",
       " 'S2E19',\n",
       " 'Nemesis',\n",
       " 'Annunaki',\n",
       " 'Jumala',\n",
       " 'Vodū',\n",
       " 'Scream',\n",
       " '1992',\n",
       " 'Multi-Vers-Onality - Marvel Contest of Champions',\n",
       " 'Historical Log 3C',\n",
       " '1976',\n",
       " 'S2E05',\n",
       " 'Historical Log 4D',\n",
       " '1974',\n",
       " 'Famine',\n",
       " '1999',\n",
       " 'S2E12',\n",
       " '[3]',\n",
       " 'Adonis',\n",
       " 'S3E10',\n",
       " 'Black Shadow (Unnameable One) (Earth-616)',\n",
       " 'Spider-Man: Web of Shadows - Amazing Allies Edition',\n",
       " 'see notes',\n",
       " 'S3E06',\n",
       " 'Lady Deathstrike',\n",
       " 'Earth-4321',\n",
       " '[10]',\n",
       " '#33',\n",
       " 'Avengers: West Coast Vol 1 59',\n",
       " '[12]',\n",
       " '[2]',\n",
       " 'Marvel Contest of Champions',\n",
       " '#1',\n",
       " 'the Shield',\n",
       " 'Shub-Niggurath',\n",
       " 'She-Thing',\n",
       " '(Vol. 2) #6',\n",
       " '[4]',\n",
       " '2011',\n",
       " 'S1E09',\n",
       " 'Ultimate Comics Avengers Vol 2 4',\n",
       " 'Funny Pages Vol 2 #10',\n",
       " 'Helmet',\n",
       " 'Shou-Hsing',\n",
       " '1963',\n",
       " 'Avengers: West Coast Vol 1 70',\n",
       " 'Historical Log 2B',\n",
       " 'Magik',\n",
       " 'Hathor',\n",
       " '(Vol. 2) #22',\n",
       " '1985',\n",
       " 'S2E10',\n",
       " 'S1E24',\n",
       " \"Jack O'Lantern\",\n",
       " '#43',\n",
       " 'Pestilence',\n",
       " 'S1E22',\n",
       " 'Silence',\n",
       " '(Vol. 2) #2',\n",
       " 'Damballah']"
      ]
     },
     "execution_count": 77,
     "metadata": {},
     "output_type": "execute_result"
    }
   ],
   "source": [
    "months = ['January', 'February', 'March', 'April', 'May', 'June', 'July', 'August', 'September', 'October', 'November', 'December']\n",
    "months.extend([f'{month},' for month in months])\n",
    "[date for date in list(df['First_Appearance'].unique()) if str(date).split()[0] not in months]"
   ]
  },
  {
   "cell_type": "code",
   "execution_count": 78,
   "metadata": {},
   "outputs": [],
   "source": [
    "def extract_year(entry):\n",
    "    try:\n",
    "        year = int(entry.split()[-1])\n",
    "        if year >= 1900:\n",
    "            return year \n",
    "        else:\n",
    "            return np.nan\n",
    "    except:\n",
    "        return np.nan"
   ]
  },
  {
   "cell_type": "code",
   "execution_count": 79,
   "metadata": {},
   "outputs": [
    {
     "data": {
      "text/plain": [
       "(2000, 1991, 2018, nan, nan)"
      ]
     },
     "execution_count": 79,
     "metadata": {},
     "output_type": "execute_result"
    }
   ],
   "source": [
    "extract_year('2000'), extract_year('July, 1991'), extract_year('July 22, 2018'), extract_year(np.nan), extract_year('(Vol. 2) #2')"
   ]
  },
  {
   "cell_type": "code",
   "execution_count": 80,
   "metadata": {},
   "outputs": [
    {
     "data": {
      "text/plain": [
       "array([1991., 1969., 2010., 2017., 2011., 2015., 1997., 1993., 1994.,\n",
       "       2019., 1995., 1999., 2013.,   nan, 1984., 1977., 2020., 1953.,\n",
       "       1980., 1989., 2003., 2006., 2008., 2018., 2014., 2012., 2007.,\n",
       "       1967., 1965., 1992., 2005., 2004., 2001., 1974., 1987., 1996.,\n",
       "       1985., 1972., 2009., 1990., 1955., 1982., 1976., 2000., 1986.,\n",
       "       1968., 2021., 1988., 1940., 1998., 1978., 1947., 1945., 1975.,\n",
       "       1983., 1964., 1943., 1941., 2016., 1981., 1970., 1962., 2002.,\n",
       "       1944., 1942., 1979., 1954., 1973., 1963., 1948., 1961., 1966.,\n",
       "       1971., 1952., 1960., 1957., 1946., 1939., 1950., 1958., 1956.,\n",
       "       1959., 1951., 1949., 1936.])"
      ]
     },
     "execution_count": 80,
     "metadata": {},
     "output_type": "execute_result"
    }
   ],
   "source": [
    "df['Year_Introduced'] = df['First_Appearance'].apply(extract_year)\n",
    "df['Year_Introduced'].unique()"
   ]
  },
  {
   "cell_type": "code",
   "execution_count": 81,
   "metadata": {},
   "outputs": [
    {
     "data": {
      "text/plain": [
       "(74350, 14)"
      ]
     },
     "execution_count": 81,
     "metadata": {},
     "output_type": "execute_result"
    }
   ],
   "source": [
    "df = df.drop('First_Appearance', axis = 1)\n",
    "df.shape"
   ]
  },
  {
   "cell_type": "code",
   "execution_count": null,
   "metadata": {},
   "outputs": [],
   "source": [
    "# Birthplace and Citizenship are not yet fixed"
   ]
  },
  {
   "cell_type": "code",
   "execution_count": 82,
   "metadata": {},
   "outputs": [],
   "source": [
    "def plot_bar_box(cat):\n",
    "    fig, ax = plt.subplots(nrows = 2, sharex = False, sharey = False, figsize = (15,15))\n",
    "    fig.suptitle(f\"Marvel Character's {cat}\")\n",
    "    order = list(df[cat].value_counts().index) # orders the categories by count\n",
    "    sns.countplot(data = df, x = cat, order = order, ax = ax[0])\n",
    "    sns.boxplot(data = df, x = cat, y = 'Appearances', order = order, ax = ax[1])\n",
    "    plt.show()"
   ]
  }
 ],
 "metadata": {
  "interpreter": {
   "hash": "4f3e19df1e0a2f309f08dc4afc5ce24bf6fcd5c6ae41370a59f46d1c3c5f04de"
  },
  "kernelspec": {
   "display_name": "Python 3.8.10 64-bit ('marvel-env': venv)",
   "language": "python",
   "name": "python3"
  },
  "language_info": {
   "codemirror_mode": {
    "name": "ipython",
    "version": 3
   },
   "file_extension": ".py",
   "mimetype": "text/x-python",
   "name": "python",
   "nbconvert_exporter": "python",
   "pygments_lexer": "ipython3",
   "version": "3.8.10"
  },
  "orig_nbformat": 4
 },
 "nbformat": 4,
 "nbformat_minor": 2
}
