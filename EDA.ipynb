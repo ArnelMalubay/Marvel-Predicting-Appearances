{
 "cells": [
  {
   "cell_type": "markdown",
   "metadata": {},
   "source": [
    "# EDA and Data Cleaning of Marvel Characters' Data"
   ]
  },
  {
   "cell_type": "code",
   "execution_count": 2,
   "metadata": {},
   "outputs": [],
   "source": [
    "import pandas as pd\n",
    "import numpy as np\n",
    "import matplotlib.pyplot as plt\n",
    "import seaborn as sns\n",
    "sns.set_theme()"
   ]
  },
  {
   "cell_type": "code",
   "execution_count": 14,
   "metadata": {},
   "outputs": [],
   "source": [
    "df = pd.read_csv('marvelscraping/characters.csv')"
   ]
  },
  {
   "cell_type": "code",
   "execution_count": 4,
   "metadata": {},
   "outputs": [
    {
     "data": {
      "text/html": [
       "<div>\n",
       "<style scoped>\n",
       "    .dataframe tbody tr th:only-of-type {\n",
       "        vertical-align: middle;\n",
       "    }\n",
       "\n",
       "    .dataframe tbody tr th {\n",
       "        vertical-align: top;\n",
       "    }\n",
       "\n",
       "    .dataframe thead th {\n",
       "        text-align: right;\n",
       "    }\n",
       "</style>\n",
       "<table border=\"1\" class=\"dataframe\">\n",
       "  <thead>\n",
       "    <tr style=\"text-align: right;\">\n",
       "      <th></th>\n",
       "      <th>Name</th>\n",
       "      <th>Gender</th>\n",
       "      <th>Marital_Status</th>\n",
       "      <th>Height</th>\n",
       "      <th>Weight</th>\n",
       "      <th>Eye_Color</th>\n",
       "      <th>Hair_Color</th>\n",
       "      <th>Living_Status</th>\n",
       "      <th>Reality</th>\n",
       "      <th>Birthplace</th>\n",
       "      <th>Identity</th>\n",
       "      <th>Citizenship</th>\n",
       "      <th>First_Appearance</th>\n",
       "      <th>Appearances</th>\n",
       "    </tr>\n",
       "  </thead>\n",
       "  <tbody>\n",
       "    <tr>\n",
       "      <th>0</th>\n",
       "      <td>6-Ball (Earth-616)</td>\n",
       "      <td>Male</td>\n",
       "      <td>Single</td>\n",
       "      <td>NaN</td>\n",
       "      <td>NaN</td>\n",
       "      <td>NaN</td>\n",
       "      <td>NaN</td>\n",
       "      <td>Alive</td>\n",
       "      <td>Earth-616</td>\n",
       "      <td>NaN</td>\n",
       "      <td>Secret</td>\n",
       "      <td>American</td>\n",
       "      <td>July, 1991</td>\n",
       "      <td>1.0</td>\n",
       "    </tr>\n",
       "    <tr>\n",
       "      <th>1</th>\n",
       "      <td>6R (Earth-616)</td>\n",
       "      <td>Agender</td>\n",
       "      <td>NaN</td>\n",
       "      <td>NaN</td>\n",
       "      <td>NaN</td>\n",
       "      <td>NaN</td>\n",
       "      <td>NaN</td>\n",
       "      <td>Deceased</td>\n",
       "      <td>Earth-616</td>\n",
       "      <td>Sentinel Headquarters</td>\n",
       "      <td>NaN</td>\n",
       "      <td>NaN</td>\n",
       "      <td>July, 1969</td>\n",
       "      <td>1.0</td>\n",
       "    </tr>\n",
       "    <tr>\n",
       "      <th>2</th>\n",
       "      <td>762 (Legion Personality) (Earth-616)</td>\n",
       "      <td>Male</td>\n",
       "      <td>Single</td>\n",
       "      <td>NaN</td>\n",
       "      <td>NaN</td>\n",
       "      <td>NaN</td>\n",
       "      <td>Black</td>\n",
       "      <td>Alive</td>\n",
       "      <td>Earth-616</td>\n",
       "      <td>NaN</td>\n",
       "      <td>Secret</td>\n",
       "      <td>NaN</td>\n",
       "      <td>June, 2010</td>\n",
       "      <td>1.0</td>\n",
       "    </tr>\n",
       "    <tr>\n",
       "      <th>3</th>\n",
       "      <td>627 (Skullbot) (Earth-12041)</td>\n",
       "      <td>Agender</td>\n",
       "      <td>NaN</td>\n",
       "      <td>NaN</td>\n",
       "      <td>NaN</td>\n",
       "      <td>Blue</td>\n",
       "      <td>No Hair At All</td>\n",
       "      <td>Deceased</td>\n",
       "      <td>Earth-12041</td>\n",
       "      <td>NaN</td>\n",
       "      <td>Public</td>\n",
       "      <td>NaN</td>\n",
       "      <td>June 27, 2017</td>\n",
       "      <td>1.0</td>\n",
       "    </tr>\n",
       "    <tr>\n",
       "      <th>4</th>\n",
       "      <td>749 (Legion Personality) (Earth-616)</td>\n",
       "      <td>Male</td>\n",
       "      <td>Single</td>\n",
       "      <td>NaN</td>\n",
       "      <td>NaN</td>\n",
       "      <td>NaN</td>\n",
       "      <td>Black</td>\n",
       "      <td>Alive</td>\n",
       "      <td>Earth-616</td>\n",
       "      <td>Legion</td>\n",
       "      <td>Secret</td>\n",
       "      <td>NaN</td>\n",
       "      <td>June, 2011</td>\n",
       "      <td>1.0</td>\n",
       "    </tr>\n",
       "  </tbody>\n",
       "</table>\n",
       "</div>"
      ],
      "text/plain": [
       "                                   Name   Gender Marital_Status  Height  \\\n",
       "0                    6-Ball (Earth-616)     Male         Single     NaN   \n",
       "1                        6R (Earth-616)  Agender            NaN     NaN   \n",
       "2  762 (Legion Personality) (Earth-616)     Male         Single     NaN   \n",
       "3          627 (Skullbot) (Earth-12041)  Agender            NaN     NaN   \n",
       "4  749 (Legion Personality) (Earth-616)     Male         Single     NaN   \n",
       "\n",
       "   Weight Eye_Color      Hair_Color Living_Status      Reality  \\\n",
       "0     NaN       NaN             NaN         Alive    Earth-616   \n",
       "1     NaN       NaN             NaN      Deceased    Earth-616   \n",
       "2     NaN       NaN           Black         Alive    Earth-616   \n",
       "3     NaN      Blue  No Hair At All      Deceased  Earth-12041   \n",
       "4     NaN       NaN           Black         Alive    Earth-616   \n",
       "\n",
       "              Birthplace Identity Citizenship First_Appearance  Appearances  \n",
       "0                    NaN   Secret    American       July, 1991          1.0  \n",
       "1  Sentinel Headquarters      NaN         NaN       July, 1969          1.0  \n",
       "2                    NaN   Secret         NaN       June, 2010          1.0  \n",
       "3                    NaN   Public         NaN    June 27, 2017          1.0  \n",
       "4                 Legion   Secret         NaN       June, 2011          1.0  "
      ]
     },
     "execution_count": 4,
     "metadata": {},
     "output_type": "execute_result"
    }
   ],
   "source": [
    "df.head()"
   ]
  },
  {
   "cell_type": "code",
   "execution_count": 8,
   "metadata": {},
   "outputs": [
    {
     "data": {
      "text/plain": [
       "(74350, 14)"
      ]
     },
     "execution_count": 8,
     "metadata": {},
     "output_type": "execute_result"
    }
   ],
   "source": [
    "df.shape"
   ]
  },
  {
   "cell_type": "code",
   "execution_count": 9,
   "metadata": {},
   "outputs": [
    {
     "data": {
      "text/plain": [
       "Name                 object\n",
       "Gender               object\n",
       "Marital_Status       object\n",
       "Height              float64\n",
       "Weight              float64\n",
       "Eye_Color            object\n",
       "Hair_Color           object\n",
       "Living_Status        object\n",
       "Reality              object\n",
       "Birthplace           object\n",
       "Identity             object\n",
       "Citizenship          object\n",
       "First_Appearance     object\n",
       "Appearances         float64\n",
       "dtype: object"
      ]
     },
     "execution_count": 9,
     "metadata": {},
     "output_type": "execute_result"
    }
   ],
   "source": [
    "df.dtypes"
   ]
  },
  {
   "cell_type": "code",
   "execution_count": 6,
   "metadata": {},
   "outputs": [
    {
     "data": {
      "text/plain": [
       "Name                 0.000000\n",
       "Gender               2.793544\n",
       "Marital_Status      55.166106\n",
       "Height              92.968393\n",
       "Weight              93.513114\n",
       "Eye_Color           54.711500\n",
       "Hair_Color          25.973100\n",
       "Living_Status        0.024210\n",
       "Reality              0.217888\n",
       "Birthplace          88.133154\n",
       "Identity            14.707465\n",
       "Citizenship         28.574311\n",
       "First_Appearance     8.264963\n",
       "Appearances          6.359112\n",
       "dtype: float64"
      ]
     },
     "execution_count": 6,
     "metadata": {},
     "output_type": "execute_result"
    }
   ],
   "source": [
    "df.isna().sum() / len(df) * 100"
   ]
  },
  {
   "cell_type": "code",
   "execution_count": 5,
   "metadata": {},
   "outputs": [
    {
     "data": {
      "text/plain": [
       "array(['Male', 'Agender', 'Female', nan, 'Non-Binary', 'Genderfluid',\n",
       "       'Male/Female', 'Gestalt', 'female', 'Single', 'Transgender'],\n",
       "      dtype=object)"
      ]
     },
     "execution_count": 5,
     "metadata": {},
     "output_type": "execute_result"
    }
   ],
   "source": [
    "df['Gender'].unique()"
   ]
  },
  {
   "cell_type": "code",
   "execution_count": 6,
   "metadata": {},
   "outputs": [
    {
     "data": {
      "text/plain": [
       "array(['Male', 'Agender', 'Female', nan, 'Non-Binary', 'Genderfluid',\n",
       "       'Gestalt', 'Transgender'], dtype=object)"
      ]
     },
     "execution_count": 6,
     "metadata": {},
     "output_type": "execute_result"
    }
   ],
   "source": [
    "df['Gender'].replace({'female' : 'Female', 'Male/Female' : np.nan, 'Single' : np.nan}, inplace = True)\n",
    "df['Gender'].unique()"
   ]
  },
  {
   "cell_type": "code",
   "execution_count": 7,
   "metadata": {},
   "outputs": [
    {
     "data": {
      "text/plain": [
       "array(['Single', nan, 'Married', 'Widowed', 'Separated', 'Engaged',\n",
       "       'Divorced', 'Estranged', 'Windowed', 'single', 'Unknown.', 'Blond',\n",
       "       'Unnamed', 'Divorces', 'Unknown',\n",
       "       'Married\\x7f\\'\"`UNIQ--ref-00000009-QINU`\"\\'\\x7f'], dtype=object)"
      ]
     },
     "execution_count": 7,
     "metadata": {},
     "output_type": "execute_result"
    }
   ],
   "source": [
    "df['Marital_Status'].unique()"
   ]
  },
  {
   "cell_type": "code",
   "execution_count": 8,
   "metadata": {},
   "outputs": [
    {
     "data": {
      "text/plain": [
       "array(['Single', nan, 'Married', 'Widowed', 'Separated', 'Engaged',\n",
       "       'Divorced', 'Estranged'], dtype=object)"
      ]
     },
     "execution_count": 8,
     "metadata": {},
     "output_type": "execute_result"
    }
   ],
   "source": [
    "df['Marital_Status'].replace({'Windowed' : 'Widowed', 'single' : 'Single', 'Unknown.' : np.nan,\n",
    "                            'Blond' : np.nan, 'Unnamed' : np.nan, \n",
    "                            'Divorces' : 'Divorced', 'Unknown' : np.nan, \n",
    "                            'Married\\x7f\\'\"`UNIQ--ref-00000009-QINU`\"\\'\\x7f' : 'Married'},\n",
    "                    inplace = True)\n",
    "df['Marital_Status'].unique()"
   ]
  },
  {
   "cell_type": "code",
   "execution_count": 15,
   "metadata": {},
   "outputs": [
    {
     "data": {
      "text/plain": [
       "array([nan, 'Blue', 'Red', 'Yellow', 'Brown', 'No Eyes At All', 'Grey',\n",
       "       'White', 'Black', 'Hazel', 'Green', 'Gold', 'Purple', 'Pink',\n",
       "       'Orange', 'Variable', 'Dark', 'Amber', 'Fair', 'Violet', 'Silver',\n",
       "       'black', 'no visible pupils', 'Magenta', 'Compound', 'No Visible',\n",
       "       'Brown-Grey', 'blue', 'yellow', 'brown',\n",
       "       'no visible pupil or iris', 'red', 'No Iris', 'white',\n",
       "       'No visible Irises or Pupils', 'hazel'], dtype=object)"
      ]
     },
     "execution_count": 15,
     "metadata": {},
     "output_type": "execute_result"
    }
   ],
   "source": [
    "df['Eye_Color'].unique()"
   ]
  },
  {
   "cell_type": "code",
   "execution_count": 16,
   "metadata": {},
   "outputs": [
    {
     "data": {
      "text/plain": [
       "array(['Nan', 'Blue', 'Red', 'Yellow', 'Brown', 'No eyes at all', 'Grey',\n",
       "       'White', 'Black', 'Hazel', 'Green', 'Gold', 'Purple', 'Pink',\n",
       "       'Orange', 'Variable', 'Dark', 'Amber', 'Fair', 'Violet', 'Silver',\n",
       "       'No visible pupils', 'Magenta', 'Compound', 'No visible',\n",
       "       'Brown-grey', 'No visible pupil or iris', 'No iris',\n",
       "       'No visible irises or pupils'], dtype=object)"
      ]
     },
     "execution_count": 16,
     "metadata": {},
     "output_type": "execute_result"
    }
   ],
   "source": [
    "df['Eye_Color'] = df['Eye_Color'].apply(lambda x : str(x).capitalize())\n",
    "df['Eye_Color'].unique()"
   ]
  },
  {
   "cell_type": "code",
   "execution_count": 18,
   "metadata": {},
   "outputs": [
    {
     "data": {
      "text/plain": [
       "array([nan, 'Blue', 'Red', 'Yellow', 'Brown', 'No eyes at all', 'Grey',\n",
       "       'White', 'Black', 'Hazel', 'Green', 'Gold', 'Purple', 'Pink',\n",
       "       'Orange', 'Variable', 'Amber', 'Violet', 'Silver',\n",
       "       'No visible iris and/or pupils', 'Magenta', 'Compound',\n",
       "       'Brown-grey'], dtype=object)"
      ]
     },
     "execution_count": 18,
     "metadata": {},
     "output_type": "execute_result"
    }
   ],
   "source": [
    "df['Eye_Color'].replace({'Nan' : np.nan, 'Fair' : np.nan, 'Dark' : np.nan, \n",
    "                        'No visible pupils' : 'No visible iris and/or pupils',\n",
    "                        'No visible' : 'No visible iris and/or pupils',\n",
    "                        'No visible pupil or iris' : 'No visible iris and/or pupils',\n",
    "                        'No iris' : 'No visible iris and/or pupils',\n",
    "                        'No visible irises or pupils' : 'No visible iris and/or pupils'},\n",
    "                        inplace = True)\n",
    "df['Eye_Color'].unique()"
   ]
  },
  {
   "cell_type": "code",
   "execution_count": 25,
   "metadata": {},
   "outputs": [],
   "source": [
    "def plot_bar_box(cat):\n",
    "    fig, ax = plt.subplots(nrows = 2, sharex = False, sharey = False, figsize = (15,15))\n",
    "    fig.suptitle(f\"Marvel Character's {cat}\")\n",
    "    order = list(df[cat].value_counts().index) # orders the categories by count\n",
    "    sns.countplot(data = df, x = cat, order = order, ax = ax[0])\n",
    "    sns.boxplot(data = df, x = cat, y = 'Appearances', order = order, ax = ax[1])\n",
    "    plt.show()"
   ]
  }
 ],
 "metadata": {
  "interpreter": {
   "hash": "4f3e19df1e0a2f309f08dc4afc5ce24bf6fcd5c6ae41370a59f46d1c3c5f04de"
  },
  "kernelspec": {
   "display_name": "Python 3.8.10 64-bit ('marvel-env': venv)",
   "language": "python",
   "name": "python3"
  },
  "language_info": {
   "codemirror_mode": {
    "name": "ipython",
    "version": 3
   },
   "file_extension": ".py",
   "mimetype": "text/x-python",
   "name": "python",
   "nbconvert_exporter": "python",
   "pygments_lexer": "ipython3",
   "version": "3.8.10"
  },
  "orig_nbformat": 4
 },
 "nbformat": 4,
 "nbformat_minor": 2
}
